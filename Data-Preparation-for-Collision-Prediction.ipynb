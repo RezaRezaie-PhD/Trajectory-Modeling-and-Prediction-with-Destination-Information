{
 "cells": [
  {
   "cell_type": "code",
   "execution_count": 328,
   "metadata": {
    "colab": {},
    "colab_type": "code",
    "id": "lC4e13YFVzHp"
   },
   "outputs": [],
   "source": [
    "# Unlike the previous script (MITLL_RNN_DataFile_Future), this script do not consider only the encounters with conflict for data prepartion. \n",
    "# This script generates data where class 1 is oversampled by adding different noise realizations to the truth.\n",
    "\n",
    "\n",
    "import numpy as np\n",
    "import pandas as pd\n",
    "import matplotlib.pyplot as plt\n",
    "import pylab\n",
    "import string\n",
    "import math\n"
   ]
  },
  {
   "cell_type": "code",
   "execution_count": 329,
   "metadata": {
    "colab": {},
    "colab_type": "code",
    "id": "-ob8ziY6V0de"
   },
   "outputs": [
    {
     "name": "stdout",
     "output_type": "stream",
     "text": [
      "Requirement already satisfied: pymap3d in c:\\users\\rrezaie\\anaconda3\\lib\\site-packages (2.4.1)\n"
     ]
    }
   ],
   "source": [
    "!pip install pymap3d"
   ]
  },
  {
   "cell_type": "code",
   "execution_count": 330,
   "metadata": {
    "colab": {},
    "colab_type": "code",
    "id": "ajGJZ7WoV07j"
   },
   "outputs": [],
   "source": [
    "import pymap3d as pm"
   ]
  },
  {
   "cell_type": "code",
   "execution_count": 331,
   "metadata": {
    "colab": {},
    "colab_type": "code",
    "id": "Ny8P55JiV1YG"
   },
   "outputs": [],
   "source": [
    "pi = math.pi"
   ]
  },
  {
   "cell_type": "code",
   "execution_count": 332,
   "metadata": {
    "colab": {},
    "colab_type": "code",
    "id": "hPsZ-UY4WDmY"
   },
   "outputs": [],
   "source": [
    "import os\n",
    "arr = os.listdir('F:\\SBIR-2020\\RNN-Classification-Papers\\DataSets\\RNN_Data_Classification')\n"
   ]
  },
  {
   "cell_type": "code",
   "execution_count": 333,
   "metadata": {
    "colab": {},
    "colab_type": "code",
    "id": "gBG-CWoqWEDL",
    "scrolled": true
   },
   "outputs": [
    {
     "data": {
      "text/plain": [
       "['.ipynb_checkpoints',\n",
       " 'MITLL_RNN_DataFile-Future-Draf2.ipynb',\n",
       " 'MITLL_RNN_DataFile-Future-Draft1.ipynb',\n",
       " 'MITLL_RNN_DataFile-Future-Draft3.ipynb',\n",
       " 'MITLL_RNN_DataFile-Future.ipynb',\n",
       " 'MITLL_RNN_DataFile.ipynb',\n",
       " 'MITLL_RNN_DataFile_Future_New.ipynb',\n",
       " 'MITLL_RNN_DataFile_Future_TestDataPlotting - Copy.ipynb',\n",
       " 'MITLL_RNN_DataFile_Future_TestDataPlotting.ipynb',\n",
       " 'MITLL_RNN_Data_OversampleClass1.ipynb',\n",
       " 'truth_mit_ll_10003.txt']"
      ]
     },
     "execution_count": 333,
     "metadata": {},
     "output_type": "execute_result"
    }
   ],
   "source": [
    "arr[0:11]"
   ]
  },
  {
   "cell_type": "code",
   "execution_count": 334,
   "metadata": {},
   "outputs": [
    {
     "data": {
      "text/plain": [
       "'truth_mit_ll_10003.txt'"
      ]
     },
     "execution_count": 334,
     "metadata": {},
     "output_type": "execute_result"
    }
   ],
   "source": [
    "arr[10]"
   ]
  },
  {
   "cell_type": "code",
   "execution_count": 335,
   "metadata": {},
   "outputs": [],
   "source": [
    "D_files = 10"
   ]
  },
  {
   "cell_type": "code",
   "execution_count": 336,
   "metadata": {
    "scrolled": true
   },
   "outputs": [
    {
     "data": {
      "text/plain": [
       "10000"
      ]
     },
     "execution_count": 336,
     "metadata": {},
     "output_type": "execute_result"
    }
   ],
   "source": [
    "N_encounter_file = len(arr) - D_files\n",
    "N_encounter_file"
   ]
  },
  {
   "cell_type": "code",
   "execution_count": 337,
   "metadata": {},
   "outputs": [],
   "source": [
    "### FUNCTIONS for velocity rotation\n",
    "\n",
    "def enu2ecefRotation(lat, lon):\n",
    "    \n",
    "    cosLat = np.cos(lat) \n",
    "    sinLat = np.sin(lat)\n",
    "    cosLon = np.cos(lon)\n",
    "    sinLon = np.sin(lon)\n",
    "    \n",
    "    TT = np.array([[-sinLon , -sinLat*cosLon, cosLat*cosLon],\n",
    "                   [cosLon, -sinLat*sinLon, cosLat*sinLon],\n",
    "                   [0.0, cosLat, sinLat]])\n",
    "    \n",
    "    return TT\n",
    "    \n",
    "    \n",
    "    \n",
    "def ecef2enuRotation(lat, lon):\n",
    "    \n",
    "    cosLat = np.cos(lat) \n",
    "    sinLat = np.sin(lat)\n",
    "    cosLon = np.cos(lon)\n",
    "    sinLon = np.sin(lon)\n",
    "    \n",
    "    TT = np.array([[-sinLon , cosLon, 0.0],\n",
    "                   [-sinLat*cosLon, -sinLat*sinLon, cosLat],\n",
    "                   [cosLat*cosLon, cosLat*sinLon, sinLat]])\n",
    "    \n",
    "    return TT\n",
    "    \n",
    "    \n",
    "\n",
    "def anEnu2ourEnuRotation(lat0, lon0, lat1, lon1):\n",
    "    \n",
    "    TT1 = enu2ecefRotation(lat1, lon1)\n",
    "    TT2 = ecef2enuRotation(lat0, lon0)\n",
    "    TT3 = np.matmul(TT2,TT1)\n",
    "    \n",
    "    return TT3\n",
    "\n",
    "\n",
    "\n",
    "def rotateEnuVelocity(vel_east, vel_north, vel_up, lat_1, lon_1, lat0, lon0):\n",
    "    \n",
    "    edot = np.zeros(len(vel_east))\n",
    "    ndot = np.zeros(len(vel_north))\n",
    "    udot = np.zeros(len(vel_up))\n",
    "    \n",
    "    for i in range(len(vel_east)): \n",
    "    \n",
    "         TT = anEnu2ourEnuRotation(lat0, lon0, lat_1[i], lon_1[i])\n",
    "    \n",
    "         edot[i] = TT[0][0]*vel_east[i] + TT[0][1]*vel_north[i] + TT[0][2]*vel_up[i] \n",
    "    \n",
    "         ndot[i] = TT[1][0]*vel_east[i] + TT[1][1]*vel_north[i] + TT[1][2]*vel_up[i] \n",
    "    \n",
    "         udot[i] = TT[2][0]*vel_east[i] + TT[2][1]*vel_north[i] + TT[2][2]*vel_up[i] \n",
    "    \n",
    "    return edot, ndot, udot\n",
    "\n"
   ]
  },
  {
   "cell_type": "code",
   "execution_count": 338,
   "metadata": {
    "scrolled": false
   },
   "outputs": [],
   "source": [
    "Yw_TEMP = []\n",
    "\n",
    "\n",
    "\n",
    "for i_enc in range(N_encounter_file):\n",
    "\n",
    "    #============================== The following line convert a *.txt file with \" \" dilimter to the same file with \",\" dilimeter\n",
    "# But the whole content is written in one column. The next cell below split this column to several column by splitting it \n",
    "# based on \",\" splitting.  /content/drive/My Drive/Colab Notebooks/Correlated-HALE/CSVFiles\n",
    "\n",
    "    with open(arr[i_enc + D_files]) as infile, open('F:\\SBIR-2020\\RNN-Classification-Papers\\DataSets\\TEMP/out_truth_mit_ll_' + str(i_enc) + '.csv', 'w') as outfile:\n",
    "         outfile.write(infile.read().replace(\" \", \",\"))\n",
    "\n",
    "    #------------------------------------\n",
    "\n",
    "    df = pd.read_fwf('F:\\SBIR-2020\\RNN-Classification-Papers\\DataSets\\TEMP/out_truth_mit_ll_' + str(i_enc) + '.csv', header=None)  \n",
    "    \n",
    "    #df = pd.read_fwf('out_msg8001_half.csv', header=None)\n",
    "    MITLL_Data_1 = df[0].str.split(',', expand=True)\n",
    "    \n",
    "    #------------------------------------ There is a space in the first column for time 1 sec to 9 sec. These lines take care of that.\n",
    "    \n",
    "    \n",
    "    MITLL_Data = MITLL_Data_1.copy()\n",
    "\n",
    "    for i in range(24):\n",
    "\n",
    "        MITLL_Data[i][0:18] = MITLL_Data_1[i+1][0:18]\n",
    "\n",
    "    #------------------------------------   \n",
    "    \n",
    "    BC_1 = MITLL_Data[1][0]\n",
    "    BC_2 = MITLL_Data[1][1]\n",
    "\n",
    "    \n",
    "    lat_1 = MITLL_Data[MITLL_Data[1]==BC_1][3].astype(float).to_numpy()\n",
    "    lat_2 = MITLL_Data[MITLL_Data[1]==BC_2][3].astype(float).to_numpy()\n",
    "\n",
    "    lon_1 = MITLL_Data[MITLL_Data[1]==BC_1][4].astype(float).to_numpy()\n",
    "    lon_2 = MITLL_Data[MITLL_Data[1]==BC_2][4].astype(float).to_numpy()\n",
    "   \n",
    "    alt_1 = MITLL_Data[MITLL_Data[1]==BC_1][5].astype(float).to_numpy()\n",
    "    alt_2 = MITLL_Data[MITLL_Data[1]==BC_2][5].astype(float).to_numpy()\n",
    "\n",
    "    vel_east_1t = MITLL_Data[MITLL_Data[1]==BC_1][7].astype(float).to_numpy()\n",
    "    vel_east_2t = MITLL_Data[MITLL_Data[1]==BC_2][7].astype(float).to_numpy()\n",
    "\n",
    "    vel_north_1t = MITLL_Data[MITLL_Data[1]==BC_1][8].astype(float).to_numpy()\n",
    "    vel_north_2t = MITLL_Data[MITLL_Data[1]==BC_2][8].astype(float).to_numpy()\n",
    "\n",
    "    vel_up_1t = MITLL_Data[MITLL_Data[1]==BC_1][9].astype(float).to_numpy()\n",
    "    vel_up_2t = MITLL_Data[MITLL_Data[1]==BC_2][9].astype(float).to_numpy()\n",
    "\n",
    "    #---------------------------------------------------------\n",
    "        \n",
    "    \n",
    "    #---------------------------------------------------------\n",
    "\n",
    "    #--------------------------------------------------------------Position conversion\n",
    "    # The local coordinate origin \n",
    "    lat0 = np.array(0.6026) # deg\n",
    "    lon0 = np.array(-2.05450)  # deg\n",
    "    alt0 = np.array(0.2959)     # meters\n",
    "\n",
    "    east_0, north_0, up_0 = pm.geodetic2enu(lat0/pi*180, lon0/pi*180, alt0*1852, lat0/pi*180, lon0/pi*180, alt0*1852)\n",
    "\n",
    "    east_1, north_1, up_1 = pm.geodetic2enu(lat_1/pi*180, lon_1/pi*180, alt_1*1852, lat0/pi*180, lon0/pi*180, alt0*1852)\n",
    "    east_2, north_2, up_2 = pm.geodetic2enu(lat_2/pi*180, lon_2/pi*180, alt_2*1852, lat0/pi*180, lon0/pi*180, alt0*1852)\n",
    "\n",
    "    #--------------------------------------------------------------Velocity Conversion\n",
    "    \n",
    "    vel_east_1, vel_north_1, vel_up_1 = rotateEnuVelocity(vel_east_1t, vel_north_1t, vel_up_1t, lat_1, lon_1, lat0, lon0)\n",
    "    vel_east_2, vel_north_2, vel_up_2 = rotateEnuVelocity(vel_east_2t, vel_north_2t, vel_up_2t, lat_2, lon_2, lat0, lon0)\n",
    "    \n",
    "    #--------------------------------------------------------------\n",
    "    \n",
    "    x = [east_1, north_1, up_1, vel_east_1, vel_north_1, vel_up_1, east_2, north_2, up_2, vel_east_2, vel_north_2, vel_up_2]\n",
    "    \n",
    "    #X.append(x)\n",
    "\n",
    "    #--------------------------------\n",
    "    \n",
    "    #--------------------------------\n",
    "    \n",
    "    #------------------------------- Class\n",
    "    \n",
    "    x_t = np.array(x)\n",
    "    \n",
    "    #..........................\n",
    "    \n",
    "    #=========================================== Check if there is a conflict\n",
    "        \n",
    "    H_dis_W = (np.sqrt((x_t[0][:] - x_t[6][:])**2 + (x_t[1][:] - x_t[7][:])**2)/1852<1)*1\n",
    "    V_dis_W = (np.abs(x_t[2][:] - x_t[8][:])*3.28084<400)*1               \n",
    "        \n",
    "    #............................\n",
    "    \n",
    "    Dis_W = H_dis_W*V_dis_W\n",
    "    C_d_W = np.sum(Dis_W)\n",
    "    \n",
    "    y_W = (C_d_W>0)*1\n",
    "    \n",
    "    Yw_TEMP.append(y_W)\n",
    "        \n",
    "Yw_T = np.array(Yw_TEMP)"
   ]
  },
  {
   "cell_type": "code",
   "execution_count": 339,
   "metadata": {
    "scrolled": true
   },
   "outputs": [
    {
     "data": {
      "text/plain": [
       "3372"
      ]
     },
     "execution_count": 339,
     "metadata": {},
     "output_type": "execute_result"
    }
   ],
   "source": [
    "N_conf_enc = np.sum(Yw_T)\n",
    "N_conf_enc"
   ]
  },
  {
   "cell_type": "code",
   "execution_count": 340,
   "metadata": {},
   "outputs": [
    {
     "data": {
      "text/plain": [
       "6628"
      ]
     },
     "execution_count": 340,
     "metadata": {},
     "output_type": "execute_result"
    }
   ],
   "source": [
    "N_No_conf_enc =len(Yw_T) - np.sum(Yw_T)\n",
    "N_No_conf_enc"
   ]
  },
  {
   "cell_type": "code",
   "execution_count": 341,
   "metadata": {},
   "outputs": [
    {
     "data": {
      "text/plain": [
       "26860"
      ]
     },
     "execution_count": 341,
     "metadata": {},
     "output_type": "execute_result"
    }
   ],
   "source": [
    "N_over_1 = 6   # number of examples in class 1 (NMAC class) is: N_over_1*N_conf_enc\n",
    "N_over_0 = 1   # number of examples in class 0 is: N_over_0*N_No_conf_enc\n",
    "\n",
    "N_enc = len(Yw_T) + N_conf_enc*(N_over_1-1) + N_No_conf_enc*(N_over_0-1)\n",
    "N_enc"
   ]
  },
  {
   "cell_type": "code",
   "execution_count": 342,
   "metadata": {},
   "outputs": [
    {
     "data": {
      "text/plain": [
       "(10000,)"
      ]
     },
     "execution_count": 342,
     "metadata": {},
     "output_type": "execute_result"
    }
   ],
   "source": [
    "Yw_T.shape"
   ]
  },
  {
   "cell_type": "code",
   "execution_count": 343,
   "metadata": {
    "scrolled": false
   },
   "outputs": [],
   "source": [
    "\n",
    "#X = []\n",
    "#Y = []\n",
    "YY_W = []\n",
    "YY_c = []\n",
    "\n",
    "\n",
    "\n",
    "\n",
    "X_csv = np.zeros(shape=(150,13*N_enc + 1))    # '150': it is the number of data points for each targets -- '13*N_encounter_file + 1': Number of all columns\n",
    "\n",
    "i_enc_csv = -1\n",
    "i_enc_csv_Noconf = 0\n",
    "\n",
    "for i_enc in range(N_encounter_file):\n",
    "    \n",
    "\n",
    "    #============================== The following line convert a *.txt file with \" \" dilimter to the same file with \",\" dilimeter\n",
    "# But the whole content is written in one column. The next cell below split this column to several column by splitting it \n",
    "# based on \",\" splitting.  /content/drive/My Drive/Colab Notebooks/Correlated-HALE/CSVFiles\n",
    "\n",
    "    with open(arr[i_enc + D_files]) as infile, open('F:\\SBIR-2020\\RNN-Classification-Papers\\DataSets\\TEMP/out_truth_mit_ll_' + str(i_enc) + '.csv', 'w') as outfile:\n",
    "         outfile.write(infile.read().replace(\" \", \",\"))\n",
    "\n",
    "    #------------------------------------\n",
    "\n",
    "    df = pd.read_fwf('F:\\SBIR-2020\\RNN-Classification-Papers\\DataSets\\TEMP/out_truth_mit_ll_' + str(i_enc) + '.csv', header=None)  \n",
    "    \n",
    "    #df = pd.read_fwf('out_msg8001_half.csv', header=None)\n",
    "    MITLL_Data_1 = df[0].str.split(',', expand=True)\n",
    "    \n",
    "    #------------------------------------ There is a space in the first column for time 1 sec to 9 sec. These lines take care of that.\n",
    "    \n",
    "    \n",
    "    MITLL_Data = MITLL_Data_1.copy()\n",
    "\n",
    "    for i in range(24):\n",
    "\n",
    "        MITLL_Data[i][0:18] = MITLL_Data_1[i+1][0:18]\n",
    "\n",
    "    #------------------------------------   \n",
    "    \n",
    "    BC_1 = MITLL_Data[1][0]\n",
    "    BC_2 = MITLL_Data[1][1]\n",
    "\n",
    "    \n",
    "    lat_1 = MITLL_Data[MITLL_Data[1]==BC_1][3].astype(float).to_numpy()\n",
    "    lat_2 = MITLL_Data[MITLL_Data[1]==BC_2][3].astype(float).to_numpy()\n",
    "\n",
    "    lon_1 = MITLL_Data[MITLL_Data[1]==BC_1][4].astype(float).to_numpy()\n",
    "    lon_2 = MITLL_Data[MITLL_Data[1]==BC_2][4].astype(float).to_numpy()\n",
    "   \n",
    "    alt_1 = MITLL_Data[MITLL_Data[1]==BC_1][5].astype(float).to_numpy()\n",
    "    alt_2 = MITLL_Data[MITLL_Data[1]==BC_2][5].astype(float).to_numpy()\n",
    "\n",
    "    vel_east_1t = MITLL_Data[MITLL_Data[1]==BC_1][7].astype(float).to_numpy()\n",
    "    vel_east_2t = MITLL_Data[MITLL_Data[1]==BC_2][7].astype(float).to_numpy()\n",
    "\n",
    "    vel_north_1t = MITLL_Data[MITLL_Data[1]==BC_1][8].astype(float).to_numpy()\n",
    "    vel_north_2t = MITLL_Data[MITLL_Data[1]==BC_2][8].astype(float).to_numpy()\n",
    "\n",
    "    vel_up_1t = MITLL_Data[MITLL_Data[1]==BC_1][9].astype(float).to_numpy()\n",
    "    vel_up_2t = MITLL_Data[MITLL_Data[1]==BC_2][9].astype(float).to_numpy()\n",
    "\n",
    "\n",
    "    #--------------------------------------------------------------Position conversion\n",
    "    # The local coordinate origin \n",
    "    lat0 = np.array(0.6026) # deg\n",
    "    lon0 = np.array(-2.05450)  # deg\n",
    "    alt0 = np.array(0.2959)     # meters\n",
    "\n",
    "    east_0, north_0, up_0 = pm.geodetic2enu(lat0/pi*180, lon0/pi*180, alt0*1852, lat0/pi*180, lon0/pi*180, alt0*1852)\n",
    "\n",
    "    east_1, north_1, up_1 = pm.geodetic2enu(lat_1/pi*180, lon_1/pi*180, alt_1*1852, lat0/pi*180, lon0/pi*180, alt0*1852)\n",
    "    east_2, north_2, up_2 = pm.geodetic2enu(lat_2/pi*180, lon_2/pi*180, alt_2*1852, lat0/pi*180, lon0/pi*180, alt0*1852)\n",
    "\n",
    "    #--------------------------------------------------------------Velocity Conversion\n",
    "    \n",
    "    vel_east_1, vel_north_1, vel_up_1 = rotateEnuVelocity(vel_east_1t, vel_north_1t, vel_up_1t, lat_1, lon_1, lat0, lon0)\n",
    "    vel_east_2, vel_north_2, vel_up_2 = rotateEnuVelocity(vel_east_2t, vel_north_2t, vel_up_2t, lat_2, lon_2, lat0, lon0)\n",
    "    \n",
    "    #--------------------------------------------------------------\n",
    "    \n",
    "    x = [east_1, north_1, up_1, vel_east_1, vel_north_1, vel_up_1, east_2, north_2, up_2, vel_east_2, vel_north_2, vel_up_2]\n",
    "\n",
    "    #-----------------------------------------------------------------------\n",
    "    \n",
    "    #------------------------------- Class\n",
    "    \n",
    "    x_t = np.array(x)\n",
    "    \n",
    "    #..........................\n",
    "        \n",
    "    #===========================================\n",
    "    \n",
    "    i_0 = 20\n",
    "    \n",
    "    Win_L = 20   # window length for sequence\n",
    "    \n",
    "    I_C = 0\n",
    "    \n",
    "    #.........................\n",
    "    \n",
    "    i_enc_csv += 1 \n",
    "        \n",
    "    for i_t in range(150):\n",
    "        \n",
    "        \n",
    "        if i_t<Win_L-1:\n",
    "        \n",
    "           y = -1\n",
    "            \n",
    "        elif i_t>150-i_0-1:\n",
    "        \n",
    "           y = 3\n",
    "            \n",
    "        elif I_C == 1:\n",
    "        \n",
    "           y = 2\n",
    "        \n",
    "        else:\n",
    "                          \n",
    "           #.............................\n",
    "    \n",
    "           H_dis = (np.sqrt((x_t[0][i_t+i_0] - x_t[6][i_t+i_0])**2 + (x_t[1][i_t+i_0] - x_t[7][i_t+i_0])**2)/1852<1)*1\n",
    "           V_dis = (np.abs(x_t[2][i_t+i_0] - x_t[8][i_t+i_0])*3.28084<400)*1               \n",
    "        \n",
    "           #............................\n",
    "    \n",
    "           Dis = H_dis*V_dis\n",
    "           C_d = np.sum(Dis)\n",
    "    \n",
    "           y = (C_d>0)*1\n",
    "             \n",
    "           #-------------\n",
    "        \n",
    "           if y==1:\n",
    "                \n",
    "                I_C = 1\n",
    "    \n",
    "           #...........................\n",
    "                     \n",
    "    \n",
    "        X_csv[i_t,i_enc_csv*13 + 13] =  np.array(y)\n",
    "    \n",
    "        #-------------------------------\n",
    "    \n",
    "    \n",
    "    if Yw_T[i_enc]==1:\n",
    "            \n",
    "        #===============================================================================Add Gauss Markov noise\n",
    "        \n",
    "        #-----------------------Truth\n",
    "        \n",
    "        #east_1_t = x_t[0]/1852\n",
    "        #north_1_t = x_t[1]/1852\n",
    "        #up_1_t = x_t[2]/1852\n",
    "        \n",
    "        #vel_east_1_t = x_t[3]\n",
    "        #vel_north_1_t = x_t[4]\n",
    "        #vel_up_1_t = x_t[5]\n",
    "        \n",
    "        #east_2_t = x_t[6]/1852\n",
    "        #north_2_t = x_t[7]/1852\n",
    "        #up_2_t = x_t[8]/1852\n",
    "        \n",
    "        #vel_east_2_t = x_t[9]\n",
    "        #vel_north_2_t = x_t[10]\n",
    "        #vel_up_2_t = x_t[11]\n",
    "        \n",
    "        \n",
    "        #-----------------------\n",
    "        \n",
    "        #east_1_z = np.zeros(150)\n",
    "        #north_1_z = np.zeros(150)\n",
    "        #up_1_z = np.zeros(150)\n",
    "        \n",
    "        #vel_east_1_z = np.zeros(150)\n",
    "        #vel_north_1_z = np.zeros(150)\n",
    "        #vel_up_1_z = np.zeros(150)\n",
    "        \n",
    "        #east_2_z = np.zeros(150)\n",
    "        #north_2_z = np.zeros(150)\n",
    "        #up_2_z = np.zeros(150)\n",
    "        \n",
    "        #vel_east_2_z = np.zeros(150)\n",
    "        #vel_north_2_z = np.zeros(150)\n",
    "        #vel_up_2_z = np.zeros(150)\n",
    "        \n",
    "        #------------------------------- Position East\n",
    "        \n",
    "        #a = np.exp(-1/45)         # correlation time is 45 sec\n",
    "        #std_w = 0.1/2.448      # consider NACp=7, i.e., 0.1 nmi  (for 2.448 see ADSB modeling paper)\n",
    "        #std_w = 0\n",
    "        \n",
    "        #..............target 1\n",
    "        \n",
    "        #std_u = std_w\n",
    "        #u = np.random.normal(loc=0.0, scale=std_u)\n",
    "        #w_km1 = u\n",
    "        \n",
    "        #east_1_z[0] = x_t[0][0]/1852 + u\n",
    "        \n",
    "        #for i_z in range(149):\n",
    "            \n",
    "        #    std_u = std_w*np.sqrt(1-a**2)\n",
    "        #    u = np.random.normal(loc=0.0, scale=std_u)\n",
    "        #    w_k = a*w_km1 + u\n",
    "            \n",
    "        #    east_1_z[i_z+1] = x_t[0][i_z+1]/1852 + w_k\n",
    "            \n",
    "        #    w_km1 = w_k\n",
    "            \n",
    "        #.................\n",
    "        \n",
    "        #..............target 2\n",
    "        \n",
    "        #std_u = std_w\n",
    "        #u = np.random.normal(loc=0.0, scale=std_u)\n",
    "        #w_km1 = u\n",
    "        \n",
    "        #east_2_z[0] = x_t[6][0]/1852 + u\n",
    "        \n",
    "        #for i_z in range(149):\n",
    "            \n",
    "        #    std_u = std_w*np.sqrt(1-a**2)\n",
    "        #    u = np.random.normal(loc=0.0, scale=std_u)\n",
    "        #    w_k = a*w_km1 + u\n",
    "            \n",
    "        #    east_2_z[i_z+1] = x_t[6][i_z+1]/1852 + w_k\n",
    "            \n",
    "        #    w_km1 = w_k\n",
    "        \n",
    "        #...................\n",
    "        \n",
    "        #-------------------------------\n",
    "        \n",
    "        #------------------------------- Position North\n",
    "        \n",
    "        #a = np.exp(-1/45)         # correlation time is 45 sec\n",
    "        #std_w = 0.1/2.448      # consider NACp=7, i.e., 0.1 nmi  (for 2.448 see ADSB modeling paper)\n",
    "        #std_w = 0\n",
    "        \n",
    "        #..............target 1\n",
    "        \n",
    "        #std_u = std_w\n",
    "        #u = np.random.normal(loc=0.0, scale=std_u)\n",
    "        #w_km1 = u\n",
    "        \n",
    "        #north_1_z[0] = x_t[1][0]/1852 + u\n",
    "        \n",
    "        #for i_z in range(149):\n",
    "            \n",
    "        #    std_u = std_w*np.sqrt(1-a**2)\n",
    "        #    u = np.random.normal(loc=0.0, scale=std_u)\n",
    "        #    w_k = a*w_km1 + u\n",
    "            \n",
    "        #    north_1_z[i_z+1] = x_t[1][i_z+1]/1852 + w_k\n",
    "            \n",
    "        #    w_km1 = w_k\n",
    "            \n",
    "        #.................\n",
    "        \n",
    "        #..............target 2\n",
    "        \n",
    "        #std_u = std_w\n",
    "        #u = np.random.normal(loc=0.0, scale=std_u)\n",
    "        #w_km1 = u\n",
    "        \n",
    "        #north_2_z[0] = x_t[7][0]/1852 + u\n",
    "        \n",
    "        #for i_z in range(149):\n",
    "            \n",
    "        #    std_u = std_w*np.sqrt(1-a**2)\n",
    "        #    u = np.random.normal(loc=0.0, scale=std_u)\n",
    "        #    w_k = a*w_km1 + u\n",
    "            \n",
    "        #    north_2_z[i_z+1] = x_t[7][i_z+1]/1852 + w_k\n",
    "            \n",
    "        #    w_km1 = w_k\n",
    "        \n",
    "        #...................\n",
    "        \n",
    "        #-------------------------------\n",
    "        \n",
    "        #------------------------------- Position Up\n",
    "        \n",
    "        #a = np.exp(-1/45)         # correlation time is 45 sec\n",
    "        #std_w = 150*0.000164579      # consider std=150 ft    (convert it to nmi)\n",
    "        #std_w = 0\n",
    "        \n",
    "        #..............target 1\n",
    "        \n",
    "        #std_u = std_w\n",
    "        #u = np.random.normal(loc=0.0, scale=std_u)\n",
    "        #w_km1 = u\n",
    "        \n",
    "        #up_1_z[0] = x_t[2][0]/1852 + u\n",
    "        \n",
    "        #for i_z in range(149):\n",
    "            \n",
    "        #    std_u = std_w*np.sqrt(1-a**2)\n",
    "        #    u = np.random.normal(loc=0.0, scale=std_u)\n",
    "        #    w_k = a*w_km1 + u\n",
    "            \n",
    "        #    up_1_z[i_z+1] = x_t[2][i_z+1]/1852 + w_k\n",
    "            \n",
    "        #    w_km1 = w_k\n",
    "            \n",
    "        #.................\n",
    "        \n",
    "        #..............target 2\n",
    "        \n",
    "        #std_u = std_w\n",
    "        #u = np.random.normal(loc=0.0, scale=std_u)\n",
    "        #w_km1 = u\n",
    "        \n",
    "        #up_2_z[0] = x_t[8][0]/1852 + u\n",
    "        \n",
    "        #for i_z in range(149):\n",
    "            \n",
    "        #    std_u = std_w*np.sqrt(1-a**2)\n",
    "        #    u = np.random.normal(loc=0.0, scale=std_u)\n",
    "        #    w_k = a*w_km1 + u\n",
    "            \n",
    "        #    up_2_z[i_z+1] = x_t[8][i_z+1]/1852 + w_k\n",
    "            \n",
    "        #    w_km1 = w_k\n",
    "        \n",
    "        #...................\n",
    "        \n",
    "        #-------------------------------\n",
    "        \n",
    "        #------------------------------- Velocity East\n",
    "        \n",
    "        #a = np.exp(-1/45)         # correlation time is 45 sec\n",
    "        #std_w = 1/2.448*3600/1852      # consider NACv=3, i.e., 1 m/s   (for 2.448 see ADSB modeling paper)\n",
    "        #std_w = 0\n",
    "        \n",
    "        #..............target 1\n",
    "        \n",
    "        #std_u = std_w\n",
    "        #u = np.random.normal(loc=0.0, scale=std_u)\n",
    "        #w_km1 = u\n",
    "        \n",
    "        #vel_east_1_z[0] = x_t[3][0] + u\n",
    "        \n",
    "        #for i_z in range(149):\n",
    "            \n",
    "        #    std_u = std_w*np.sqrt(1-a**2)\n",
    "        #    u = np.random.normal(loc=0.0, scale=std_u)\n",
    "        #    w_k = a*w_km1 + u\n",
    "            \n",
    "        #    vel_east_1_z[i_z+1] = x_t[3][i_z+1] + w_k\n",
    "            \n",
    "        #    w_km1 = w_k\n",
    "            \n",
    "        #.................\n",
    "        \n",
    "        #..............target 2\n",
    "        \n",
    "        #std_u = std_w\n",
    "        #u = np.random.normal(loc=0.0, scale=std_u)\n",
    "        #w_km1 = u\n",
    "        \n",
    "        #vel_east_2_z[0] = x_t[9][0] + u\n",
    "        \n",
    "        #for i_z in range(149):\n",
    "            \n",
    "        #    std_u = std_w*np.sqrt(1-a**2)\n",
    "        #    u = np.random.normal(loc=0.0, scale=std_u)\n",
    "        #    w_k = a*w_km1 + u\n",
    "            \n",
    "        #    vel_east_2_z[i_z+1] = x_t[9][i_z+1] + w_k\n",
    "            \n",
    "        #    w_km1 = w_k\n",
    "        \n",
    "        #...................\n",
    "        \n",
    "        #-------------------------------\n",
    "        \n",
    "        #------------------------------- Velocity North\n",
    "        \n",
    "        #a = np.exp(-1/45)         # correlation time is 45 sec\n",
    "        #std_w = 1/2.448*3600/1852      # consider NACv=3, i.e., 1 m/s   (for 2.448 see ADSB modeling paper)\n",
    "        #std_w = 0\n",
    "        \n",
    "        #..............target 1\n",
    "        \n",
    "        #std_u = std_w\n",
    "        #u = np.random.normal(loc=0.0, scale=std_u)\n",
    "        #w_km1 = u\n",
    "        \n",
    "        #vel_north_1_z[0] = x_t[4][0] + u\n",
    "        \n",
    "        #for i_z in range(149):\n",
    "            \n",
    "        #    std_u = std_w*np.sqrt(1-a**2)\n",
    "        #    u = np.random.normal(loc=0.0, scale=std_u)\n",
    "        #    w_k = a*w_km1 + u\n",
    "            \n",
    "        #    vel_north_1_z[i_z+1] = x_t[4][i_z+1] + w_k\n",
    "            \n",
    "        #    w_km1 = w_k\n",
    "            \n",
    "        #.................\n",
    "        \n",
    "        #..............target 2\n",
    "        \n",
    "        #std_u = std_w\n",
    "        #u = np.random.normal(loc=0.0, scale=std_u)\n",
    "        #w_km1 = u\n",
    "        \n",
    "        #vel_north_2_z[0] = x_t[10][0] + u\n",
    "        \n",
    "        #for i_z in range(149):\n",
    "            \n",
    "        #    std_u = std_w*np.sqrt(1-a**2)\n",
    "        #    u = np.random.normal(loc=0.0, scale=std_u)\n",
    "        #    w_k = a*w_km1 + u\n",
    "            \n",
    "        #    vel_north_2_z[i_z+1] = x_t[10][i_z+1] + w_k\n",
    "            \n",
    "        #    w_km1 = w_k\n",
    "        \n",
    "        #...................\n",
    "        \n",
    "        #-------------------------------\n",
    "        \n",
    "        #------------------------------- Velocity Up\n",
    "        \n",
    "        #a = np.exp(-1/45)         # correlation time is 45 sec\n",
    "        #std_w = 200*60*0.000164579      # consider std=200 ft/min   (convert it to knots)\n",
    "        #std_w = 0\n",
    "        \n",
    "        #..............target 1\n",
    "        \n",
    "        #std_u = std_w\n",
    "        #u = np.random.normal(loc=0.0, scale=std_u)\n",
    "        #w_km1 = u\n",
    "        \n",
    "        #vel_up_1_z[0] = x_t[5][0] + u\n",
    "        \n",
    "        #for i_z in range(149):\n",
    "            \n",
    "        #    std_u = std_w*np.sqrt(1-a**2)\n",
    "        #    u = np.random.normal(loc=0.0, scale=std_u)\n",
    "        #    w_k = a*w_km1 + u\n",
    "            \n",
    "        #    vel_up_1_z[i_z+1] = x_t[5][i_z+1] + w_k\n",
    "            \n",
    "        #    w_km1 = w_k\n",
    "            \n",
    "        #.................\n",
    "        \n",
    "        #..............target 2\n",
    "        \n",
    "        #std_u = std_w\n",
    "        #u = np.random.normal(loc=0.0, scale=std_u)\n",
    "        #w_km1 = u\n",
    "        \n",
    "        #vel_up_2_z[0] = x_t[11][0] + u\n",
    "        \n",
    "        for i_z in range(149):\n",
    "            \n",
    "            std_u = std_w*np.sqrt(1-a**2)\n",
    "            u = np.random.normal(loc=0.0, scale=std_u)\n",
    "            w_k = a*w_km1 + u\n",
    "            \n",
    "            vel_up_2_z[i_z+1] = x_t[11][i_z+1] + w_k\n",
    "            \n",
    "            w_km1 = w_k\n",
    "        \n",
    "        #...................\n",
    "        \n",
    "        #-------------------------------\n",
    "        \n",
    "        #======================================================================================================\n",
    "        \n",
    "        #-----------------------------------------------Prepare np_array for CSV output\n",
    "    \n",
    "        X_csv[:,i_enc_csv*13 + 1] =  east_1_z\n",
    "        X_csv[:,i_enc_csv*13 + 2] =  north_1_z\n",
    "        X_csv[:,i_enc_csv*13 + 3] =  up_1_z\n",
    "        X_csv[:,i_enc_csv*13 + 4] =  vel_east_1_z\n",
    "        X_csv[:,i_enc_csv*13 + 5] =  vel_north_1_z\n",
    "        X_csv[:,i_enc_csv*13 + 6] =  vel_up_1_z\n",
    "        X_csv[:,i_enc_csv*13 + 7] =  east_2_z\n",
    "        X_csv[:,i_enc_csv*13 + 8] =  north_2_z\n",
    "        X_csv[:,i_enc_csv*13 + 9] =  up_2_z\n",
    "        X_csv[:,i_enc_csv*13 + 10] =  vel_east_2_z\n",
    "        X_csv[:,i_enc_csv*13 + 11] =  vel_north_2_z\n",
    "        X_csv[:,i_enc_csv*13 + 12] =  vel_up_2_z\n",
    "\n",
    "                \n",
    "    else:\n",
    "        \n",
    "        #------------------------ Set according to the number of times for oversampling\n",
    "        \n",
    "        for i_oversample in range(N_over_1-1):\n",
    "        \n",
    "            X_csv[:,(i_enc_csv + i_oversample + 1)*13 + 13] =  X_csv[:,(i_enc_csv)*13 + 13]\n",
    "            \n",
    "        \n",
    "        i_enc_csv -=1\n",
    "            \n",
    "        for i2_oversample in range(N_over_1):\n",
    "            \n",
    "            i_enc_csv += 1\n",
    "            \n",
    "            \n",
    "            #===============================================================================Add Gauss Markov noise\n",
    "        \n",
    "            #-----------------------Truth\n",
    "        \n",
    "            east_1_t = x_t[0]/1852\n",
    "            north_1_t = x_t[1]/1852\n",
    "            up_1_t = x_t[2]/1852\n",
    "        \n",
    "            vel_east_1_t = x_t[3]\n",
    "            vel_north_1_t = x_t[4]\n",
    "            vel_up_1_t = x_t[5]\n",
    "        \n",
    "            east_2_t = x_t[6]/1852\n",
    "            north_2_t = x_t[7]/1852\n",
    "            up_2_t = x_t[8]/1852\n",
    "        \n",
    "            vel_east_2_t = x_t[9]\n",
    "            vel_north_2_t = x_t[10]\n",
    "            vel_up_2_t = x_t[11]\n",
    "        \n",
    "        \n",
    "            #-----------------------\n",
    "        \n",
    "            east_1_z = np.zeros(150)\n",
    "            north_1_z = np.zeros(150)\n",
    "            up_1_z = np.zeros(150)\n",
    "        \n",
    "            vel_east_1_z = np.zeros(150)\n",
    "            vel_north_1_z = np.zeros(150)\n",
    "            vel_up_1_z = np.zeros(150)\n",
    "        \n",
    "            east_2_z = np.zeros(150)\n",
    "            north_2_z = np.zeros(150)\n",
    "            up_2_z = np.zeros(150)\n",
    "        \n",
    "            vel_east_2_z = np.zeros(150)\n",
    "            vel_north_2_z = np.zeros(150)\n",
    "            vel_up_2_z = np.zeros(150)\n",
    "        \n",
    "            #------------------------------- Position East\n",
    "        \n",
    "            a = np.exp(-1/45)         # correlation time is 45 sec\n",
    "            std_w = 0.1/2.448      # consider NACp=7, i.e., 0.1 nmi  (for 2.448 see ADSB modeling paper)\n",
    "            #std_w = 0\n",
    "        \n",
    "            #..............target 1\n",
    "        \n",
    "            std_u = std_w\n",
    "            u = np.random.normal(loc=0.0, scale=std_u)\n",
    "            w_km1 = u\n",
    "        \n",
    "            east_1_z[0] = x_t[0][0]/1852 + u\n",
    "        \n",
    "            for i_z in range(149):\n",
    "            \n",
    "                std_u = std_w*np.sqrt(1-a**2)\n",
    "                u = np.random.normal(loc=0.0, scale=std_u)\n",
    "                w_k = a*w_km1 + u\n",
    "            \n",
    "                east_1_z[i_z+1] = x_t[0][i_z+1]/1852 + w_k\n",
    "            \n",
    "                w_km1 = w_k\n",
    "            \n",
    "            #.................\n",
    "        \n",
    "            #..............target 2\n",
    "        \n",
    "            std_u = std_w\n",
    "            u = np.random.normal(loc=0.0, scale=std_u)\n",
    "            w_km1 = u\n",
    "        \n",
    "            east_2_z[0] = x_t[6][0]/1852 + u\n",
    "        \n",
    "            for i_z in range(149):\n",
    "            \n",
    "                std_u = std_w*np.sqrt(1-a**2)\n",
    "                u = np.random.normal(loc=0.0, scale=std_u)\n",
    "                w_k = a*w_km1 + u\n",
    "            \n",
    "                east_2_z[i_z+1] = x_t[6][i_z+1]/1852 + w_k\n",
    "            \n",
    "                w_km1 = w_k\n",
    "        \n",
    "            #...................\n",
    "        \n",
    "            #-------------------------------\n",
    "        \n",
    "            #------------------------------- Position North\n",
    "        \n",
    "            a = np.exp(-1/45)         # correlation time is 45 sec\n",
    "            std_w = 0.1/2.448      # consider NACp=7, i.e., 0.1 nmi  (for 2.448 see ADSB modeling paper)\n",
    "            #std_w = 0\n",
    "        \n",
    "            #..............target 1\n",
    "        \n",
    "            std_u = std_w\n",
    "            u = np.random.normal(loc=0.0, scale=std_u)\n",
    "            w_km1 = u\n",
    "        \n",
    "            north_1_z[0] = x_t[1][0]/1852 + u\n",
    "        \n",
    "            for i_z in range(149):\n",
    "            \n",
    "                std_u = std_w*np.sqrt(1-a**2)\n",
    "                u = np.random.normal(loc=0.0, scale=std_u)\n",
    "                w_k = a*w_km1 + u\n",
    "            \n",
    "                north_1_z[i_z+1] = x_t[1][i_z+1]/1852 + w_k\n",
    "            \n",
    "                w_km1 = w_k\n",
    "            \n",
    "            #.................\n",
    "        \n",
    "            #..............target 2\n",
    "        \n",
    "            std_u = std_w\n",
    "            u = np.random.normal(loc=0.0, scale=std_u)\n",
    "            w_km1 = u\n",
    "        \n",
    "            north_2_z[0] = x_t[7][0]/1852 + u\n",
    "        \n",
    "            for i_z in range(149):\n",
    "            \n",
    "                std_u = std_w*np.sqrt(1-a**2)\n",
    "                u = np.random.normal(loc=0.0, scale=std_u)\n",
    "                w_k = a*w_km1 + u\n",
    "            \n",
    "                north_2_z[i_z+1] = x_t[7][i_z+1]/1852 + w_k\n",
    "            \n",
    "                w_km1 = w_k\n",
    "        \n",
    "            #...................\n",
    "        \n",
    "            #-------------------------------\n",
    "        \n",
    "            #------------------------------- Position Up\n",
    "        \n",
    "            a = np.exp(-1/45)         # correlation time is 45 sec\n",
    "            std_w = 150*0.000164579      # consider std=150 ft    (convert it to nmi)\n",
    "            #std_w = 0\n",
    "        \n",
    "            #..............target 1\n",
    "        \n",
    "            std_u = std_w\n",
    "            u = np.random.normal(loc=0.0, scale=std_u)\n",
    "            w_km1 = u\n",
    "        \n",
    "            up_1_z[0] = x_t[2][0]/1852 + u\n",
    "        \n",
    "            for i_z in range(149):\n",
    "            \n",
    "                std_u = std_w*np.sqrt(1-a**2)\n",
    "                u = np.random.normal(loc=0.0, scale=std_u)\n",
    "                w_k = a*w_km1 + u\n",
    "            \n",
    "                up_1_z[i_z+1] = x_t[2][i_z+1]/1852 + w_k\n",
    "            \n",
    "                w_km1 = w_k\n",
    "            \n",
    "            #.................\n",
    "        \n",
    "            #..............target 2\n",
    "        \n",
    "            std_u = std_w\n",
    "            u = np.random.normal(loc=0.0, scale=std_u)\n",
    "            w_km1 = u\n",
    "        \n",
    "            up_2_z[0] = x_t[8][0]/1852 + u\n",
    "        \n",
    "            for i_z in range(149):\n",
    "            \n",
    "                std_u = std_w*np.sqrt(1-a**2)\n",
    "                u = np.random.normal(loc=0.0, scale=std_u)\n",
    "                w_k = a*w_km1 + u\n",
    "            \n",
    "                up_2_z[i_z+1] = x_t[8][i_z+1]/1852 + w_k\n",
    "            \n",
    "                w_km1 = w_k\n",
    "        \n",
    "            #...................\n",
    "        \n",
    "            #-------------------------------\n",
    "        \n",
    "            #------------------------------- Velocity East\n",
    "        \n",
    "            a = np.exp(-1/45)         # correlation time is 45 sec\n",
    "            std_w = 1/2.448*3600/1852      # consider NACv=3, i.e., 1 m/s   (for 2.448 see ADSB modeling paper)\n",
    "            #std_w = 0\n",
    "        \n",
    "            #..............target 1\n",
    "        \n",
    "            std_u = std_w\n",
    "            u = np.random.normal(loc=0.0, scale=std_u)\n",
    "            w_km1 = u\n",
    "        \n",
    "            vel_east_1_z[0] = x_t[3][0] + u\n",
    "        \n",
    "            for i_z in range(149):\n",
    "            \n",
    "                std_u = std_w*np.sqrt(1-a**2)\n",
    "                u = np.random.normal(loc=0.0, scale=std_u)\n",
    "                w_k = a*w_km1 + u\n",
    "            \n",
    "                vel_east_1_z[i_z+1] = x_t[3][i_z+1] + w_k\n",
    "            \n",
    "                w_km1 = w_k\n",
    "            \n",
    "            #.................\n",
    "        \n",
    "            #..............target 2\n",
    "        \n",
    "            std_u = std_w\n",
    "            u = np.random.normal(loc=0.0, scale=std_u)\n",
    "            w_km1 = u\n",
    "        \n",
    "            vel_east_2_z[0] = x_t[9][0] + u\n",
    "        \n",
    "            for i_z in range(149):\n",
    "            \n",
    "                std_u = std_w*np.sqrt(1-a**2)\n",
    "                u = np.random.normal(loc=0.0, scale=std_u)\n",
    "                w_k = a*w_km1 + u\n",
    "            \n",
    "                vel_east_2_z[i_z+1] = x_t[9][i_z+1] + w_k\n",
    "            \n",
    "                w_km1 = w_k\n",
    "        \n",
    "            #...................\n",
    "        \n",
    "            #-------------------------------\n",
    "        \n",
    "            #------------------------------- Velocity North\n",
    "        \n",
    "            a = np.exp(-1/45)         # correlation time is 45 sec\n",
    "            std_w = 1/2.448*3600/1852      # consider NACv=3, i.e., 1 m/s   (for 2.448 see ADSB modeling paper)\n",
    "            #std_w = 0\n",
    "        \n",
    "            #..............target 1\n",
    "        \n",
    "            std_u = std_w\n",
    "            u = np.random.normal(loc=0.0, scale=std_u)\n",
    "            w_km1 = u\n",
    "        \n",
    "            vel_north_1_z[0] = x_t[4][0] + u\n",
    "        \n",
    "            for i_z in range(149):\n",
    "            \n",
    "                std_u = std_w*np.sqrt(1-a**2)\n",
    "                u = np.random.normal(loc=0.0, scale=std_u)\n",
    "                w_k = a*w_km1 + u\n",
    "            \n",
    "                vel_north_1_z[i_z+1] = x_t[4][i_z+1] + w_k\n",
    "            \n",
    "                w_km1 = w_k\n",
    "            \n",
    "            #.................\n",
    "        \n",
    "            #..............target 2\n",
    "        \n",
    "            std_u = std_w\n",
    "            u = np.random.normal(loc=0.0, scale=std_u)\n",
    "            w_km1 = u\n",
    "        \n",
    "            vel_north_2_z[0] = x_t[10][0] + u\n",
    "        \n",
    "            for i_z in range(149):\n",
    "            \n",
    "                std_u = std_w*np.sqrt(1-a**2)\n",
    "                u = np.random.normal(loc=0.0, scale=std_u)\n",
    "                w_k = a*w_km1 + u\n",
    "            \n",
    "                vel_north_2_z[i_z+1] = x_t[10][i_z+1] + w_k\n",
    "            \n",
    "                w_km1 = w_k\n",
    "        \n",
    "            #...................\n",
    "        \n",
    "            #-------------------------------\n",
    "        \n",
    "            #------------------------------- Velocity Up\n",
    "        \n",
    "            a = np.exp(-1/45)         # correlation time is 45 sec\n",
    "            std_w = 200*60*0.000164579      # consider std=200 ft/min   (convert it to knots)\n",
    "            #std_w = 0\n",
    "        \n",
    "            #..............target 1\n",
    "        \n",
    "            std_u = std_w\n",
    "            u = np.random.normal(loc=0.0, scale=std_u)\n",
    "            w_km1 = u\n",
    "        \n",
    "            vel_up_1_z[0] = x_t[5][0] + u\n",
    "        \n",
    "            for i_z in range(149):\n",
    "            \n",
    "                std_u = std_w*np.sqrt(1-a**2)\n",
    "                u = np.random.normal(loc=0.0, scale=std_u)\n",
    "                w_k = a*w_km1 + u\n",
    "            \n",
    "                vel_up_1_z[i_z+1] = x_t[5][i_z+1] + w_k\n",
    "            \n",
    "                w_km1 = w_k\n",
    "            \n",
    "            #.................\n",
    "        \n",
    "            #..............target 2\n",
    "        \n",
    "            std_u = std_w\n",
    "            u = np.random.normal(loc=0.0, scale=std_u)\n",
    "            w_km1 = u\n",
    "        \n",
    "            vel_up_2_z[0] = x_t[11][0] + u\n",
    "        \n",
    "            for i_z in range(149):\n",
    "            \n",
    "                std_u = std_w*np.sqrt(1-a**2)\n",
    "                u = np.random.normal(loc=0.0, scale=std_u)\n",
    "                w_k = a*w_km1 + u\n",
    "            \n",
    "                vel_up_2_z[i_z+1] = x_t[11][i_z+1] + w_k\n",
    "            \n",
    "                w_km1 = w_k\n",
    "        \n",
    "            #...................\n",
    "        \n",
    "            #-------------------------------\n",
    "        \n",
    "            #======================================================================================================\n",
    "        \n",
    "            #-----------------------------------------------Prepare np_array for CSV output\n",
    "    \n",
    "            X_csv[:,i_enc_csv*13 + 1] =  east_1_z\n",
    "            X_csv[:,i_enc_csv*13 + 2] =  north_1_z\n",
    "            X_csv[:,i_enc_csv*13 + 3] =  up_1_z\n",
    "            X_csv[:,i_enc_csv*13 + 4] =  vel_east_1_z\n",
    "            X_csv[:,i_enc_csv*13 + 5] =  vel_north_1_z\n",
    "            X_csv[:,i_enc_csv*13 + 6] =  vel_up_1_z\n",
    "            X_csv[:,i_enc_csv*13 + 7] =  east_2_z\n",
    "            X_csv[:,i_enc_csv*13 + 8] =  north_2_z\n",
    "            X_csv[:,i_enc_csv*13 + 9] =  up_2_z\n",
    "            X_csv[:,i_enc_csv*13 + 10] =  vel_east_2_z\n",
    "            X_csv[:,i_enc_csv*13 + 11] =  vel_north_2_z\n",
    "            X_csv[:,i_enc_csv*13 + 12] =  vel_up_2_z\n",
    "\n",
    "            \n",
    "    \n",
    "    #-----------------------------------------------\n",
    "\n",
    "time = MITLL_Data[MITLL_Data[1]==BC_1][0].astype(float)\n",
    "\n",
    "X_csv[:,0] =  time\n",
    "    \n",
    "#YY_W = np.array(YY_W)\n",
    "#YY_c = np.array(YY_c)\n",
    "\n",
    "\n",
    "\n",
    "Data_Frame = pd.DataFrame(X_csv)\n",
    "    \n",
    "Data_Frame.to_csv('F:\\SBIR-2020\\RNN-Classification-Papers\\DataSets/MITLL_Correlated_RNN_20sec_NEW_10.csv')\n",
    "\n",
    "#Data_Frame.to_csv('F:\\SBIR-2020\\RNN-Classification-Papers\\DataSets/MITLL_Correlated_RNN_NoisyData_20sec_NEW_3.csv')\n",
    "\n",
    "##Data_Frame.to_csv('F:\\SBIR-2020\\RNN-Classification-Papers\\DataSets/TEMP.csv')\n",
    "\n",
    "\n"
   ]
  },
  {
   "cell_type": "code",
   "execution_count": 344,
   "metadata": {
    "scrolled": true
   },
   "outputs": [
    {
     "data": {
      "text/plain": [
       "349180"
      ]
     },
     "execution_count": 344,
     "metadata": {},
     "output_type": "execute_result"
    }
   ],
   "source": [
    "(i_enc_csv+1)*13"
   ]
  },
  {
   "cell_type": "code",
   "execution_count": 345,
   "metadata": {
    "scrolled": true
   },
   "outputs": [
    {
     "data": {
      "text/plain": [
       "349180"
      ]
     },
     "execution_count": 345,
     "metadata": {},
     "output_type": "execute_result"
    }
   ],
   "source": [
    "N_enc*13"
   ]
  },
  {
   "cell_type": "code",
   "execution_count": 346,
   "metadata": {},
   "outputs": [
    {
     "data": {
      "text/html": [
       "<div>\n",
       "<style scoped>\n",
       "    .dataframe tbody tr th:only-of-type {\n",
       "        vertical-align: middle;\n",
       "    }\n",
       "\n",
       "    .dataframe tbody tr th {\n",
       "        vertical-align: top;\n",
       "    }\n",
       "\n",
       "    .dataframe thead th {\n",
       "        text-align: right;\n",
       "    }\n",
       "</style>\n",
       "<table border=\"1\" class=\"dataframe\">\n",
       "  <thead>\n",
       "    <tr style=\"text-align: right;\">\n",
       "      <th></th>\n",
       "      <th>0</th>\n",
       "      <th>1</th>\n",
       "      <th>2</th>\n",
       "      <th>3</th>\n",
       "      <th>4</th>\n",
       "      <th>5</th>\n",
       "      <th>6</th>\n",
       "      <th>7</th>\n",
       "      <th>8</th>\n",
       "      <th>9</th>\n",
       "      <th>...</th>\n",
       "      <th>349171</th>\n",
       "      <th>349172</th>\n",
       "      <th>349173</th>\n",
       "      <th>349174</th>\n",
       "      <th>349175</th>\n",
       "      <th>349176</th>\n",
       "      <th>349177</th>\n",
       "      <th>349178</th>\n",
       "      <th>349179</th>\n",
       "      <th>349180</th>\n",
       "    </tr>\n",
       "  </thead>\n",
       "  <tbody>\n",
       "    <tr>\n",
       "      <td>0</td>\n",
       "      <td>1.0</td>\n",
       "      <td>9.894231</td>\n",
       "      <td>-4.493041</td>\n",
       "      <td>1.361390</td>\n",
       "      <td>-225.703805</td>\n",
       "      <td>154.622782</td>\n",
       "      <td>2.134750</td>\n",
       "      <td>1.188541</td>\n",
       "      <td>6.744339</td>\n",
       "      <td>1.289528</td>\n",
       "      <td>...</td>\n",
       "      <td>-0.591092</td>\n",
       "      <td>227.538660</td>\n",
       "      <td>-6.190315</td>\n",
       "      <td>0.897625</td>\n",
       "      <td>8.554324</td>\n",
       "      <td>1.731343</td>\n",
       "      <td>80.788406</td>\n",
       "      <td>-151.651148</td>\n",
       "      <td>15.326255</td>\n",
       "      <td>-1.0</td>\n",
       "    </tr>\n",
       "    <tr>\n",
       "      <td>1</td>\n",
       "      <td>2.0</td>\n",
       "      <td>9.843043</td>\n",
       "      <td>-4.447253</td>\n",
       "      <td>1.363777</td>\n",
       "      <td>-225.758556</td>\n",
       "      <td>154.514420</td>\n",
       "      <td>1.888234</td>\n",
       "      <td>1.178021</td>\n",
       "      <td>6.712975</td>\n",
       "      <td>1.292001</td>\n",
       "      <td>...</td>\n",
       "      <td>-0.574876</td>\n",
       "      <td>227.361236</td>\n",
       "      <td>-6.011154</td>\n",
       "      <td>0.919375</td>\n",
       "      <td>8.502666</td>\n",
       "      <td>1.735159</td>\n",
       "      <td>80.826367</td>\n",
       "      <td>-151.637117</td>\n",
       "      <td>15.776158</td>\n",
       "      <td>-1.0</td>\n",
       "    </tr>\n",
       "    <tr>\n",
       "      <td>2</td>\n",
       "      <td>3.0</td>\n",
       "      <td>9.777795</td>\n",
       "      <td>-4.411260</td>\n",
       "      <td>1.369813</td>\n",
       "      <td>-225.773561</td>\n",
       "      <td>154.720338</td>\n",
       "      <td>2.294239</td>\n",
       "      <td>1.146938</td>\n",
       "      <td>6.683563</td>\n",
       "      <td>1.287726</td>\n",
       "      <td>...</td>\n",
       "      <td>-0.374826</td>\n",
       "      <td>227.240329</td>\n",
       "      <td>-5.255015</td>\n",
       "      <td>0.947570</td>\n",
       "      <td>8.457984</td>\n",
       "      <td>1.741126</td>\n",
       "      <td>80.717089</td>\n",
       "      <td>-151.709870</td>\n",
       "      <td>15.737323</td>\n",
       "      <td>-1.0</td>\n",
       "    </tr>\n",
       "    <tr>\n",
       "      <td>3</td>\n",
       "      <td>4.0</td>\n",
       "      <td>9.725732</td>\n",
       "      <td>-4.368038</td>\n",
       "      <td>1.382553</td>\n",
       "      <td>-225.623465</td>\n",
       "      <td>154.717518</td>\n",
       "      <td>1.543634</td>\n",
       "      <td>1.119134</td>\n",
       "      <td>6.656149</td>\n",
       "      <td>1.293382</td>\n",
       "      <td>...</td>\n",
       "      <td>-0.508235</td>\n",
       "      <td>227.081394</td>\n",
       "      <td>-4.703010</td>\n",
       "      <td>0.975847</td>\n",
       "      <td>8.405213</td>\n",
       "      <td>1.739213</td>\n",
       "      <td>80.634679</td>\n",
       "      <td>-151.776922</td>\n",
       "      <td>16.003215</td>\n",
       "      <td>-1.0</td>\n",
       "    </tr>\n",
       "    <tr>\n",
       "      <td>4</td>\n",
       "      <td>5.0</td>\n",
       "      <td>9.666531</td>\n",
       "      <td>-4.331760</td>\n",
       "      <td>1.388956</td>\n",
       "      <td>-225.661752</td>\n",
       "      <td>154.743286</td>\n",
       "      <td>2.187918</td>\n",
       "      <td>1.129114</td>\n",
       "      <td>6.622723</td>\n",
       "      <td>1.290590</td>\n",
       "      <td>...</td>\n",
       "      <td>-0.304391</td>\n",
       "      <td>227.471319</td>\n",
       "      <td>-5.430130</td>\n",
       "      <td>0.995863</td>\n",
       "      <td>8.357458</td>\n",
       "      <td>1.749760</td>\n",
       "      <td>80.660322</td>\n",
       "      <td>-151.492948</td>\n",
       "      <td>16.069548</td>\n",
       "      <td>-1.0</td>\n",
       "    </tr>\n",
       "  </tbody>\n",
       "</table>\n",
       "<p>5 rows × 349181 columns</p>\n",
       "</div>"
      ],
      "text/plain": [
       "   0         1         2         3           4           5         6       \\\n",
       "0     1.0  9.894231 -4.493041  1.361390 -225.703805  154.622782  2.134750   \n",
       "1     2.0  9.843043 -4.447253  1.363777 -225.758556  154.514420  1.888234   \n",
       "2     3.0  9.777795 -4.411260  1.369813 -225.773561  154.720338  2.294239   \n",
       "3     4.0  9.725732 -4.368038  1.382553 -225.623465  154.717518  1.543634   \n",
       "4     5.0  9.666531 -4.331760  1.388956 -225.661752  154.743286  2.187918   \n",
       "\n",
       "     7         8         9       ...    349171      349172    349173  \\\n",
       "0  1.188541  6.744339  1.289528  ... -0.591092  227.538660 -6.190315   \n",
       "1  1.178021  6.712975  1.292001  ... -0.574876  227.361236 -6.011154   \n",
       "2  1.146938  6.683563  1.287726  ... -0.374826  227.240329 -5.255015   \n",
       "3  1.119134  6.656149  1.293382  ... -0.508235  227.081394 -4.703010   \n",
       "4  1.129114  6.622723  1.290590  ... -0.304391  227.471319 -5.430130   \n",
       "\n",
       "     349174    349175    349176     349177      349178     349179  349180  \n",
       "0  0.897625  8.554324  1.731343  80.788406 -151.651148  15.326255    -1.0  \n",
       "1  0.919375  8.502666  1.735159  80.826367 -151.637117  15.776158    -1.0  \n",
       "2  0.947570  8.457984  1.741126  80.717089 -151.709870  15.737323    -1.0  \n",
       "3  0.975847  8.405213  1.739213  80.634679 -151.776922  16.003215    -1.0  \n",
       "4  0.995863  8.357458  1.749760  80.660322 -151.492948  16.069548    -1.0  \n",
       "\n",
       "[5 rows x 349181 columns]"
      ]
     },
     "execution_count": 346,
     "metadata": {},
     "output_type": "execute_result"
    }
   ],
   "source": [
    "Data_Frame.head()"
   ]
  },
  {
   "cell_type": "code",
   "execution_count": null,
   "metadata": {},
   "outputs": [],
   "source": []
  },
  {
   "cell_type": "code",
   "execution_count": null,
   "metadata": {},
   "outputs": [],
   "source": []
  },
  {
   "cell_type": "code",
   "execution_count": 140,
   "metadata": {},
   "outputs": [],
   "source": [
    "a = [1.0,2.0,3.0,4.0,5.0]"
   ]
  },
  {
   "cell_type": "code",
   "execution_count": 141,
   "metadata": {},
   "outputs": [
    {
     "data": {
      "text/plain": [
       "5.0"
      ]
     },
     "execution_count": 141,
     "metadata": {},
     "output_type": "execute_result"
    }
   ],
   "source": [
    "a_max = max(a)\n",
    "a_max"
   ]
  },
  {
   "cell_type": "code",
   "execution_count": 142,
   "metadata": {},
   "outputs": [
    {
     "data": {
      "text/plain": [
       "1.0"
      ]
     },
     "execution_count": 142,
     "metadata": {},
     "output_type": "execute_result"
    }
   ],
   "source": [
    "a_min = min(a)\n",
    "a_min"
   ]
  },
  {
   "cell_type": "code",
   "execution_count": 144,
   "metadata": {},
   "outputs": [
    {
     "data": {
      "text/plain": [
       "array([1., 2., 3., 4., 5.])"
      ]
     },
     "execution_count": 144,
     "metadata": {},
     "output_type": "execute_result"
    }
   ],
   "source": [
    "aa = np.array(a)\n",
    "aa"
   ]
  },
  {
   "cell_type": "code",
   "execution_count": 145,
   "metadata": {},
   "outputs": [
    {
     "data": {
      "text/plain": [
       "array([0.  , 0.25, 0.5 , 0.75, 1.  ])"
      ]
     },
     "execution_count": 145,
     "metadata": {},
     "output_type": "execute_result"
    }
   ],
   "source": [
    "a_n = ((aa-a_min)/(a_max-a_min))\n",
    "a_n"
   ]
  },
  {
   "cell_type": "code",
   "execution_count": 146,
   "metadata": {},
   "outputs": [],
   "source": [
    "aa_n = list(a_n)"
   ]
  },
  {
   "cell_type": "code",
   "execution_count": 148,
   "metadata": {},
   "outputs": [
    {
     "data": {
      "text/plain": [
       "list"
      ]
     },
     "execution_count": 148,
     "metadata": {},
     "output_type": "execute_result"
    }
   ],
   "source": [
    "type(aa_n)"
   ]
  },
  {
   "cell_type": "code",
   "execution_count": null,
   "metadata": {},
   "outputs": [],
   "source": []
  },
  {
   "cell_type": "code",
   "execution_count": 49,
   "metadata": {
    "scrolled": false
   },
   "outputs": [
    {
     "data": {
      "text/plain": [
       "120    0.0\n",
       "121    0.0\n",
       "122    0.0\n",
       "123    0.0\n",
       "124    0.0\n",
       "125    0.0\n",
       "126    0.0\n",
       "127    0.0\n",
       "Name: 13, dtype: float64"
      ]
     },
     "execution_count": 49,
     "metadata": {},
     "output_type": "execute_result"
    }
   ],
   "source": [
    "Data_Frame[13][120:128]"
   ]
  },
  {
   "cell_type": "code",
   "execution_count": 66,
   "metadata": {
    "scrolled": true
   },
   "outputs": [],
   "source": [
    "H_dis_v = (np.sqrt((x_t[0][125+20] - x_t[6][125+20])**2 + (x_t[1][125+20] - x_t[7][125+20])**2)/1852)\n",
    "V_dis_v = (np.abs(x_t[2][125+20] - x_t[8][125+20])*3.28084)    \n",
    "\n",
    "H_dis = (np.sqrt((x_t[0][125+20] - x_t[6][125+20])**2 + (x_t[1][125+20] - x_t[7][125+20])**2)/1852<1)*1\n",
    "V_dis = (np.abs(x_t[2][125+20] - x_t[8][125+20])*3.28084<400)*1    \n",
    "DD = H_dis*V_dis"
   ]
  },
  {
   "cell_type": "code",
   "execution_count": 67,
   "metadata": {},
   "outputs": [
    {
     "data": {
      "text/plain": [
       "0.6918056010537086"
      ]
     },
     "execution_count": 67,
     "metadata": {},
     "output_type": "execute_result"
    }
   ],
   "source": [
    "H_dis_v"
   ]
  },
  {
   "cell_type": "code",
   "execution_count": 68,
   "metadata": {},
   "outputs": [
    {
     "data": {
      "text/plain": [
       "370.652411310201"
      ]
     },
     "execution_count": 68,
     "metadata": {},
     "output_type": "execute_result"
    }
   ],
   "source": [
    "V_dis_v"
   ]
  },
  {
   "cell_type": "code",
   "execution_count": 49,
   "metadata": {
    "scrolled": false
   },
   "outputs": [
    {
     "data": {
      "text/plain": [
       "1"
      ]
     },
     "execution_count": 49,
     "metadata": {},
     "output_type": "execute_result"
    }
   ],
   "source": [
    "H_dis"
   ]
  },
  {
   "cell_type": "code",
   "execution_count": 50,
   "metadata": {},
   "outputs": [
    {
     "data": {
      "text/plain": [
       "0"
      ]
     },
     "execution_count": 50,
     "metadata": {},
     "output_type": "execute_result"
    }
   ],
   "source": [
    "V_dis"
   ]
  },
  {
   "cell_type": "code",
   "execution_count": 45,
   "metadata": {},
   "outputs": [
    {
     "data": {
      "text/plain": [
       "1"
      ]
     },
     "execution_count": 45,
     "metadata": {},
     "output_type": "execute_result"
    }
   ],
   "source": [
    "np.sum(DD)"
   ]
  },
  {
   "cell_type": "code",
   "execution_count": 39,
   "metadata": {},
   "outputs": [
    {
     "data": {
      "text/plain": [
       "0"
      ]
     },
     "execution_count": 39,
     "metadata": {},
     "output_type": "execute_result"
    }
   ],
   "source": [
    "DD[125+20]"
   ]
  },
  {
   "cell_type": "code",
   "execution_count": null,
   "metadata": {},
   "outputs": [],
   "source": []
  },
  {
   "cell_type": "code",
   "execution_count": null,
   "metadata": {},
   "outputs": [],
   "source": []
  },
  {
   "cell_type": "code",
   "execution_count": null,
   "metadata": {},
   "outputs": [],
   "source": []
  },
  {
   "cell_type": "code",
   "execution_count": null,
   "metadata": {},
   "outputs": [],
   "source": []
  },
  {
   "cell_type": "code",
   "execution_count": null,
   "metadata": {},
   "outputs": [],
   "source": []
  },
  {
   "cell_type": "code",
   "execution_count": 50,
   "metadata": {},
   "outputs": [
    {
     "data": {
      "text/plain": [
       "[<matplotlib.lines.Line2D at 0x2404f57e588>]"
      ]
     },
     "execution_count": 50,
     "metadata": {},
     "output_type": "execute_result"
    },
    {
     "data": {
      "image/png": "[encoded data removed]",
      "text/plain": [
       "<Figure size 432x288 with 1 Axes>"
      ]
     },
     "metadata": {
      "needs_background": "light"
     },
     "output_type": "display_data"
    }
   ],
   "source": [
    "#a = np.exp(-1/45)         # correlation time is 45 sec\n",
    "#std_w = 0.1/2.448*60*0.000164579      # consider NACp=7, i.e., 0.1   (for 2.448 see ADSB modeling paper)\n",
    "        \n",
    "        #..............target 1\n",
    "        \n",
    "#std_u = std_w\n",
    "#u = np.random.normal(loc=0.0, scale=std_u)\n",
    "#w_km1 = u\n",
    "        \n",
    "#vel_east_1_z[0] = x_t[3][0] + u\n",
    "        \n",
    "#for i_z in range(149):\n",
    "            \n",
    "#    std_u = std_w*np.sqrt(1-a**2)\n",
    "#    u = np.random.normal(loc=0.0, scale=std_u)\n",
    "#    w_k = a*w_km1 + u\n",
    "            \n",
    "#    vel_east_1_z[i_z+1] = x_t[3][i_z+1] + w_k\n",
    "            \n",
    "#    w_km1 = w_k\n",
    "\n",
    "\n",
    "#=================\n",
    "V_P = plt.subplot(111)\n",
    "#=================    \n",
    "#V_P.plot(x_t[0], x_t[1], '.b', label='Track_1')    \n",
    "V_P.plot(east_1_z, 'b', label='Track_1')    \n",
    "V_P.plot(east_1_t, 'r', label='Track_1')    \n"
   ]
  },
  {
   "cell_type": "code",
   "execution_count": 232,
   "metadata": {},
   "outputs": [
    {
     "data": {
      "text/plain": [
       "52494"
      ]
     },
     "execution_count": 232,
     "metadata": {},
     "output_type": "execute_result"
    }
   ],
   "source": [
    "4038*13"
   ]
  },
  {
   "cell_type": "code",
   "execution_count": null,
   "metadata": {},
   "outputs": [],
   "source": []
  },
  {
   "cell_type": "code",
   "execution_count": 69,
   "metadata": {},
   "outputs": [
    {
     "data": {
      "text/plain": [
       "(150, 4382)"
      ]
     },
     "execution_count": 69,
     "metadata": {},
     "output_type": "execute_result"
    }
   ],
   "source": [
    "X_csv.shape"
   ]
  },
  {
   "cell_type": "code",
   "execution_count": 70,
   "metadata": {},
   "outputs": [
    {
     "data": {
      "text/plain": [
       "336"
      ]
     },
     "execution_count": 70,
     "metadata": {},
     "output_type": "execute_result"
    }
   ],
   "source": [
    "i_enc"
   ]
  },
  {
   "cell_type": "code",
   "execution_count": null,
   "metadata": {},
   "outputs": [],
   "source": []
  },
  {
   "cell_type": "code",
   "execution_count": null,
   "metadata": {},
   "outputs": [],
   "source": []
  },
  {
   "cell_type": "code",
   "execution_count": null,
   "metadata": {},
   "outputs": [],
   "source": []
  },
  {
   "cell_type": "code",
   "execution_count": 18,
   "metadata": {},
   "outputs": [],
   "source": [
    "y_c = (1>0)*1\n",
    "h = 1"
   ]
  },
  {
   "cell_type": "code",
   "execution_count": 19,
   "metadata": {
    "scrolled": true
   },
   "outputs": [
    {
     "data": {
      "text/plain": [
       "1"
      ]
     },
     "execution_count": 19,
     "metadata": {},
     "output_type": "execute_result"
    }
   ],
   "source": [
    "y_c"
   ]
  },
  {
   "cell_type": "code",
   "execution_count": 20,
   "metadata": {},
   "outputs": [],
   "source": [
    "if y_c == 0:\n",
    "    h = 0"
   ]
  },
  {
   "cell_type": "code",
   "execution_count": 21,
   "metadata": {},
   "outputs": [
    {
     "data": {
      "text/plain": [
       "1"
      ]
     },
     "execution_count": 21,
     "metadata": {},
     "output_type": "execute_result"
    }
   ],
   "source": [
    "h"
   ]
  },
  {
   "cell_type": "code",
   "execution_count": null,
   "metadata": {},
   "outputs": [],
   "source": []
  },
  {
   "cell_type": "code",
   "execution_count": null,
   "metadata": {},
   "outputs": [],
   "source": []
  },
  {
   "cell_type": "code",
   "execution_count": null,
   "metadata": {},
   "outputs": [],
   "source": []
  },
  {
   "cell_type": "code",
   "execution_count": null,
   "metadata": {},
   "outputs": [],
   "source": []
  },
  {
   "cell_type": "code",
   "execution_count": null,
   "metadata": {},
   "outputs": [],
   "source": []
  },
  {
   "cell_type": "code",
   "execution_count": 234,
   "metadata": {},
   "outputs": [],
   "source": [
    "YY_W = []\n",
    "YY_c = []\n",
    "\n",
    "\n",
    "#N_encounter_file = 12000\n",
    "\n",
    "X_y = np.zeros(150)  #N_conf_enc))    # '150': it is the number of data points for each targets -- '13*N_encounter_file + 1': Number of all columns\n",
    "\n",
    "i_enc_csv = -1\n",
    "\n",
    "for i_enc in [8]:  #range(1):  #N_encounter_file):\n",
    "    \n",
    "\n",
    "    #============================== The following line convert a *.txt file with \" \" dilimter to the same file with \",\" dilimeter\n",
    "# But the whole content is written in one column. The next cell below split this column to several column by splitting it \n",
    "# based on \",\" splitting.  /content/drive/My Drive/Colab Notebooks/Correlated-HALE/CSVFiles\n",
    "\n",
    "    with open(arr[i_enc+6]) as infile, open('F:\\SBIR-2020\\RNN-Classification-Papers\\DataSets\\TEMP/out_truth_mit_ll_' + str(i_enc) + '.csv', 'w') as outfile:\n",
    "         outfile.write(infile.read().replace(\" \", \",\"))\n",
    "\n",
    "    #------------------------------------\n",
    "\n",
    "    df = pd.read_fwf('F:\\SBIR-2020\\RNN-Classification-Papers\\DataSets\\TEMP/out_truth_mit_ll_' + str(i_enc) + '.csv', header=None)  \n",
    "    \n",
    "    #df = pd.read_fwf('out_msg8001_half.csv', header=None)\n",
    "    MITLL_Data_1 = df[0].str.split(',', expand=True)\n",
    "    \n",
    "    #------------------------------------ There is a space in the first column for time 1 sec to 9 sec. These lines take care of that.\n",
    "    \n",
    "    \n",
    "    MITLL_Data = MITLL_Data_1.copy()\n",
    "\n",
    "    for i in range(24):\n",
    "\n",
    "        MITLL_Data[i][0:18] = MITLL_Data_1[i+1][0:18]\n",
    "\n",
    "    #------------------------------------   \n",
    "    \n",
    "    BC_1 = MITLL_Data[1][0]\n",
    "    BC_2 = MITLL_Data[1][1]\n",
    "\n",
    "    \n",
    "    lat_1 = MITLL_Data[MITLL_Data[1]==BC_1][3].astype(float).to_numpy()\n",
    "    lat_2 = MITLL_Data[MITLL_Data[1]==BC_2][3].astype(float).to_numpy()\n",
    "\n",
    "    lon_1 = MITLL_Data[MITLL_Data[1]==BC_1][4].astype(float).to_numpy()\n",
    "    lon_2 = MITLL_Data[MITLL_Data[1]==BC_2][4].astype(float).to_numpy()\n",
    "   \n",
    "    alt_1 = MITLL_Data[MITLL_Data[1]==BC_1][5].astype(float).to_numpy()\n",
    "    alt_2 = MITLL_Data[MITLL_Data[1]==BC_2][5].astype(float).to_numpy()\n",
    "\n",
    "    vel_east_1t = MITLL_Data[MITLL_Data[1]==BC_1][7].astype(float).to_numpy()\n",
    "    vel_east_2t = MITLL_Data[MITLL_Data[1]==BC_2][7].astype(float).to_numpy()\n",
    "\n",
    "    vel_north_1t = MITLL_Data[MITLL_Data[1]==BC_1][8].astype(float).to_numpy()\n",
    "    vel_north_2t = MITLL_Data[MITLL_Data[1]==BC_2][8].astype(float).to_numpy()\n",
    "\n",
    "    vel_up_1t = MITLL_Data[MITLL_Data[1]==BC_1][9].astype(float).to_numpy()\n",
    "    vel_up_2t = MITLL_Data[MITLL_Data[1]==BC_2][9].astype(float).to_numpy()\n",
    "\n",
    "\n",
    "    #--------------------------------------------------------------Position conversion\n",
    "    # The local coordinate origin \n",
    "    lat0 = np.array(0.6026) # deg\n",
    "    lon0 = np.array(-2.05450)  # deg\n",
    "    alt0 = np.array(0.2959)     # meters\n",
    "\n",
    "    east_0, north_0, up_0 = pm.geodetic2enu(lat0/pi*180, lon0/pi*180, alt0*1852, lat0/pi*180, lon0/pi*180, alt0*1852)\n",
    "\n",
    "    east_1, north_1, up_1 = pm.geodetic2enu(lat_1/pi*180, lon_1/pi*180, alt_1*1852, lat0/pi*180, lon0/pi*180, alt0*1852)\n",
    "    east_2, north_2, up_2 = pm.geodetic2enu(lat_2/pi*180, lon_2/pi*180, alt_2*1852, lat0/pi*180, lon0/pi*180, alt0*1852)\n",
    "\n",
    "    #--------------------------------------------------------------Velocity Conversion\n",
    "    \n",
    "    vel_east_1, vel_north_1, vel_up_1 = rotateEnuVelocity(vel_east_1t, vel_north_1t, vel_up_1t, lat_1, lon_1, lat0, lon0)\n",
    "    vel_east_2, vel_north_2, vel_up_2 = rotateEnuVelocity(vel_east_2t, vel_north_2t, vel_up_2t, lat_2, lon_2, lat0, lon0)\n",
    "    \n",
    "    #--------------------------------------------------------------\n",
    "    \n",
    "    x = [east_1, north_1, up_1, vel_east_1, vel_north_1, vel_up_1, east_2, north_2, up_2, vel_east_2, vel_north_2, vel_up_2]\n",
    "    \n",
    "    #--------------------------------\n",
    "    \n",
    "    #------------------------------- Class\n",
    "    \n",
    "    x_t = np.array(x)\n",
    "    \n",
    "    #..........................\n",
    "        \n",
    "    #===========================================\n",
    "    \n",
    "    i_0 = 20\n",
    "    \n",
    "    Win_L = 20   # window length for sequence\n",
    "    \n",
    "    I_C = 0\n",
    "    \n",
    "    #..........................\n",
    "    \n",
    "    #......................... ONLY consider those encounter examples that have conflict \n",
    "    #if Yw_T[i_enc]==1:\n",
    "        \n",
    "        #...................\n",
    "    \n",
    "     #   i_enc_csv += 1  \n",
    "    \n",
    "        #...................\n",
    "        \n",
    "      #  for i_t in range(150):\n",
    "        \n",
    "        \n",
    "       #      if i_t<Win_L-1:\n",
    "        \n",
    "       #           y = -1\n",
    "            \n",
    "       #      elif i_t>150-i_0-1:\n",
    "        \n",
    "       #           y = 3\n",
    "            \n",
    "       #      elif I_C == 1:\n",
    "        \n",
    "       #           y = 2\n",
    "        \n",
    "       #      else:\n",
    "                          \n",
    "                  #.............................\n",
    "    \n",
    "    H_dis = (np.sqrt((x_t[0][:] - x_t[6][:])**2 + (x_t[1][:] - x_t[7][:])**2)/1852<1)*1\n",
    "    V_dis = (np.abs(x_t[2][:] - x_t[8][:])*3.28084<400)*1               \n",
    "        \n",
    "                  #............................\n",
    "    \n",
    "    Dis = H_dis*V_dis\n",
    "    C_d = np.sum(Dis)\n",
    "    \n",
    "    y = (C_d>0)*1\n",
    "             \n",
    "                  #-------------\n",
    "        \n",
    "                  #if y==1:\n",
    "                \n",
    "                   #    I_C = 1\n",
    "    \n",
    "                  #...........................\n",
    "    \n",
    "             #X_y[i_t] =  np.array(y)\n"
   ]
  },
  {
   "cell_type": "code",
   "execution_count": 235,
   "metadata": {},
   "outputs": [
    {
     "data": {
      "text/plain": [
       "1"
      ]
     },
     "execution_count": 235,
     "metadata": {},
     "output_type": "execute_result"
    }
   ],
   "source": [
    "np.sum(y)"
   ]
  },
  {
   "cell_type": "code",
   "execution_count": 225,
   "metadata": {
    "scrolled": true
   },
   "outputs": [
    {
     "data": {
      "text/plain": [
       "array([-1., -1., -1., -1., -1., -1., -1., -1., -1., -1., -1., -1., -1.,\n",
       "       -1., -1., -1., -1., -1., -1.,  0.,  0.,  0.,  0.,  0.,  0.,  0.,\n",
       "        0.,  0.,  0.,  0.,  0.,  0.,  0.,  0.,  0.,  0.,  0.,  0.,  0.,\n",
       "        0.,  0.,  0.,  0.,  0.,  0.,  0.,  0.,  0.,  0.,  0.,  0.,  0.,\n",
       "        0.,  0.,  0.,  0.,  0.,  0.,  0.,  0.,  0.,  0.,  0.,  0.,  0.,\n",
       "        0.,  0.,  0.,  0.,  0.,  0.,  0.,  0.,  0.,  0.,  0.,  0.,  0.,\n",
       "        0.,  0.,  0.,  0.,  0.,  0.,  0.,  0.,  0.,  0.,  0.,  0.,  0.,\n",
       "        0.,  0.,  0.,  0.,  0.,  0.,  0.,  0.,  0.,  0.,  0.,  0.,  0.,\n",
       "        0.,  0.,  0.,  0.,  0.,  0.,  0.,  0.,  0.,  0.,  0.,  0.,  0.,\n",
       "        0.,  0.,  0.,  0.,  0.,  0.,  0.,  0.,  0.,  0.,  0.,  0.,  0.,\n",
       "        3.,  3.,  3.,  3.,  3.,  3.,  3.,  3.,  3.,  3.,  3.,  3.,  3.,\n",
       "        3.,  3.,  3.,  3.,  3.,  3.,  3.])"
      ]
     },
     "execution_count": 225,
     "metadata": {},
     "output_type": "execute_result"
    }
   ],
   "source": [
    "X_y"
   ]
  },
  {
   "cell_type": "code",
   "execution_count": 208,
   "metadata": {},
   "outputs": [
    {
     "data": {
      "text/plain": [
       "0"
      ]
     },
     "execution_count": 208,
     "metadata": {},
     "output_type": "execute_result"
    }
   ],
   "source": [
    "I_C"
   ]
  },
  {
   "cell_type": "code",
   "execution_count": 231,
   "metadata": {},
   "outputs": [
    {
     "data": {
      "text/plain": [
       "1"
      ]
     },
     "execution_count": 231,
     "metadata": {},
     "output_type": "execute_result"
    }
   ],
   "source": [
    "Yw_T[8]"
   ]
  },
  {
   "cell_type": "code",
   "execution_count": 216,
   "metadata": {},
   "outputs": [
    {
     "data": {
      "text/plain": [
       "0"
      ]
     },
     "execution_count": 216,
     "metadata": {},
     "output_type": "execute_result"
    }
   ],
   "source": [
    "i_enc_csv"
   ]
  },
  {
   "cell_type": "code",
   "execution_count": 217,
   "metadata": {},
   "outputs": [
    {
     "data": {
      "text/plain": [
       "149"
      ]
     },
     "execution_count": 217,
     "metadata": {},
     "output_type": "execute_result"
    }
   ],
   "source": [
    "i_t"
   ]
  },
  {
   "cell_type": "code",
   "execution_count": null,
   "metadata": {},
   "outputs": [],
   "source": []
  },
  {
   "cell_type": "code",
   "execution_count": null,
   "metadata": {},
   "outputs": [],
   "source": []
  },
  {
   "cell_type": "code",
   "execution_count": 232,
   "metadata": {},
   "outputs": [],
   "source": [
    "Yw_TEMP = []\n",
    "\n",
    "\n",
    "#N_encounter_file = 12000\n",
    "\n",
    "\n",
    "for i_enc in [8]:  #range(N_encounter_file):\n",
    "\n",
    "    #============================== The following line convert a *.txt file with \" \" dilimter to the same file with \",\" dilimeter\n",
    "# But the whole content is written in one column. The next cell below split this column to several column by splitting it \n",
    "# based on \",\" splitting.  /content/drive/My Drive/Colab Notebooks/Correlated-HALE/CSVFiles\n",
    "\n",
    "    with open(arr[i_enc+6]) as infile, open('F:\\SBIR-2020\\RNN-Classification-Papers\\DataSets\\TEMP/out_truth_mit_ll_' + str(i_enc) + '.csv', 'w') as outfile:\n",
    "         outfile.write(infile.read().replace(\" \", \",\"))\n",
    "\n",
    "    #------------------------------------\n",
    "\n",
    "    df = pd.read_fwf('F:\\SBIR-2020\\RNN-Classification-Papers\\DataSets\\TEMP/out_truth_mit_ll_' + str(i_enc) + '.csv', header=None)  \n",
    "    \n",
    "    #df = pd.read_fwf('out_msg8001_half.csv', header=None)\n",
    "    MITLL_Data_1 = df[0].str.split(',', expand=True)\n",
    "    \n",
    "    #------------------------------------ There is a space in the first column for time 1 sec to 9 sec. These lines take care of that.\n",
    "    \n",
    "    \n",
    "    MITLL_Data = MITLL_Data_1.copy()\n",
    "\n",
    "    for i in range(24):\n",
    "\n",
    "        MITLL_Data[i][0:18] = MITLL_Data_1[i+1][0:18]\n",
    "\n",
    "    #------------------------------------   \n",
    "    \n",
    "    BC_1 = MITLL_Data[1][0]\n",
    "    BC_2 = MITLL_Data[1][1]\n",
    "\n",
    "    \n",
    "    lat_1 = MITLL_Data[MITLL_Data[1]==BC_1][3].astype(float).to_numpy()\n",
    "    lat_2 = MITLL_Data[MITLL_Data[1]==BC_2][3].astype(float).to_numpy()\n",
    "\n",
    "    lon_1 = MITLL_Data[MITLL_Data[1]==BC_1][4].astype(float).to_numpy()\n",
    "    lon_2 = MITLL_Data[MITLL_Data[1]==BC_2][4].astype(float).to_numpy()\n",
    "   \n",
    "    alt_1 = MITLL_Data[MITLL_Data[1]==BC_1][5].astype(float).to_numpy()\n",
    "    alt_2 = MITLL_Data[MITLL_Data[1]==BC_2][5].astype(float).to_numpy()\n",
    "\n",
    "    vel_east_1t = MITLL_Data[MITLL_Data[1]==BC_1][7].astype(float).to_numpy()\n",
    "    vel_east_2t = MITLL_Data[MITLL_Data[1]==BC_2][7].astype(float).to_numpy()\n",
    "\n",
    "    vel_north_1t = MITLL_Data[MITLL_Data[1]==BC_1][8].astype(float).to_numpy()\n",
    "    vel_north_2t = MITLL_Data[MITLL_Data[1]==BC_2][8].astype(float).to_numpy()\n",
    "\n",
    "    vel_up_1t = MITLL_Data[MITLL_Data[1]==BC_1][9].astype(float).to_numpy()\n",
    "    vel_up_2t = MITLL_Data[MITLL_Data[1]==BC_2][9].astype(float).to_numpy()\n",
    "\n",
    "    #---------------------------------------------------------\n",
    "        \n",
    "    \n",
    "    #---------------------------------------------------------\n",
    "\n",
    "    #--------------------------------------------------------------Position conversion\n",
    "    # The local coordinate origin \n",
    "    lat0 = np.array(0.6026) # deg\n",
    "    lon0 = np.array(-2.05450)  # deg\n",
    "    alt0 = np.array(0.2959)     # meters\n",
    "\n",
    "    east_0, north_0, up_0 = pm.geodetic2enu(lat0/pi*180, lon0/pi*180, alt0*1852, lat0/pi*180, lon0/pi*180, alt0*1852)\n",
    "\n",
    "    east_1, north_1, up_1 = pm.geodetic2enu(lat_1/pi*180, lon_1/pi*180, alt_1*1852, lat0/pi*180, lon0/pi*180, alt0*1852)\n",
    "    east_2, north_2, up_2 = pm.geodetic2enu(lat_2/pi*180, lon_2/pi*180, alt_2*1852, lat0/pi*180, lon0/pi*180, alt0*1852)\n",
    "\n",
    "    #--------------------------------------------------------------Velocity Conversion\n",
    "    \n",
    "    vel_east_1, vel_north_1, vel_up_1 = rotateEnuVelocity(vel_east_1t, vel_north_1t, vel_up_1t, lat_1, lon_1, lat0, lon0)\n",
    "    vel_east_2, vel_north_2, vel_up_2 = rotateEnuVelocity(vel_east_2t, vel_north_2t, vel_up_2t, lat_2, lon_2, lat0, lon0)\n",
    "    \n",
    "    #--------------------------------------------------------------\n",
    "    \n",
    "    x = [east_1, north_1, up_1, vel_east_1, vel_north_1, vel_up_1, east_2, north_2, up_2, vel_east_2, vel_north_2, vel_up_2]\n",
    "    \n",
    "    #X.append(x)\n",
    "\n",
    "    #--------------------------------\n",
    "    \n",
    "    #--------------------------------\n",
    "    \n",
    "    #------------------------------- Class\n",
    "    \n",
    "    x_t = np.array(x)\n",
    "    \n",
    "    #..........................\n",
    "    \n",
    "    #=========================================== Check if there is a conflict\n",
    "        \n",
    "    H_dis_W = (np.sqrt((x_t[0][:] - x_t[6][:])**2 + (x_t[1][:] - x_t[7][:])**2)/1852<1)*1\n",
    "    V_dis_W = (np.abs(x_t[2][:] - x_t[8][:])*3.28084<400)*1               \n",
    "        \n",
    "    #............................\n",
    "    \n",
    "    Dis_W = H_dis_W*V_dis_W\n",
    "    C_d_W = np.sum(Dis_W)\n",
    "    \n",
    "    y_W = (C_d_W>0)*1\n",
    "    \n",
    "    Yw_TEMP.append(y_W)\n",
    "        \n",
    "Yw_T = np.array(Yw_TEMP)"
   ]
  },
  {
   "cell_type": "code",
   "execution_count": 233,
   "metadata": {},
   "outputs": [
    {
     "data": {
      "text/plain": [
       "[1]"
      ]
     },
     "execution_count": 233,
     "metadata": {},
     "output_type": "execute_result"
    }
   ],
   "source": [
    "Yw_TEMP"
   ]
  },
  {
   "cell_type": "code",
   "execution_count": null,
   "metadata": {},
   "outputs": [],
   "source": []
  },
  {
   "cell_type": "code",
   "execution_count": null,
   "metadata": {},
   "outputs": [],
   "source": []
  },
  {
   "cell_type": "code",
   "execution_count": null,
   "metadata": {},
   "outputs": [],
   "source": []
  },
  {
   "cell_type": "code",
   "execution_count": null,
   "metadata": {},
   "outputs": [],
   "source": []
  },
  {
   "cell_type": "code",
   "execution_count": null,
   "metadata": {},
   "outputs": [],
   "source": []
  },
  {
   "cell_type": "code",
   "execution_count": null,
   "metadata": {},
   "outputs": [],
   "source": []
  },
  {
   "cell_type": "code",
   "execution_count": 335,
   "metadata": {
    "colab": {},
    "colab_type": "code",
    "id": "4m_EHh8gWE7F",
    "scrolled": false
   },
   "outputs": [],
   "source": [
    "\n",
    "X = []\n",
    "Y = []\n",
    "\n",
    "N_encounter_file = 1\n",
    "\n",
    "X_csv = np.zeros(shape=(150,13*N_encounter_file + 1))    # '150': it is the number of data points for each targets -- '13*N_encounter_file + 1': Number of all columns\n",
    "\n",
    "for i_enc in [73]:  #range(N_encounter_file):\n",
    "\n",
    "    #============================== The following line convert a *.txt file with \" \" dilimter to the same file with \",\" dilimeter\n",
    "# But the whole content is written in one column. The next cell below split this column to several column by splitting it \n",
    "# based on \",\" splitting.  /content/drive/My Drive/Colab Notebooks/Correlated-HALE/CSVFiles\n",
    "\n",
    "    with open(arr[i_enc+2]) as infile, open('F:\\SBIR-2020\\RNN-Classification-Papers\\DataSets\\TEMP/out_truth_mit_ll_' + str(i_enc) + '.csv', 'w') as outfile:\n",
    "         outfile.write(infile.read().replace(\" \", \",\"))\n",
    "\n",
    "    #------------------------------------\n",
    "\n",
    "    df = pd.read_fwf('F:\\SBIR-2020\\RNN-Classification-Papers\\DataSets\\TEMP/out_truth_mit_ll_' + str(i_enc) + '.csv', header=None)  \n",
    "    \n",
    "    #df = pd.read_fwf('out_msg8001_half.csv', header=None)\n",
    "    MITLL_Data_1 = df[0].str.split(',', expand=True)\n",
    "    \n",
    "    #------------------------------------ There is a space in the first column for time 1 sec to 9 sec. These lines take care of that.\n",
    "    \n",
    "    \n",
    "    MITLL_Data = MITLL_Data_1.copy()\n",
    "\n",
    "    for i in range(24):\n",
    "\n",
    "        MITLL_Data[i][0:18] = MITLL_Data_1[i+1][0:18]\n",
    "\n",
    "    #------------------------------------   \n",
    "    \n",
    "    BC_1 = MITLL_Data[1][0]\n",
    "    BC_2 = MITLL_Data[1][1]\n",
    "\n",
    "    \n",
    "    lat_1 = MITLL_Data[MITLL_Data[1]==BC_1][3].astype(float)\n",
    "    lat_2 = MITLL_Data[MITLL_Data[1]==BC_2][3].astype(float)\n",
    "\n",
    "    lon_1 = MITLL_Data[MITLL_Data[1]==BC_1][4].astype(float)\n",
    "    lon_2 = MITLL_Data[MITLL_Data[1]==BC_2][4].astype(float)\n",
    "   \n",
    "    alt_1 = MITLL_Data[MITLL_Data[1]==BC_1][5].astype(float)\n",
    "    alt_2 = MITLL_Data[MITLL_Data[1]==BC_2][5].astype(float)\n",
    "\n",
    "    vel_east_1t = MITLL_Data[MITLL_Data[1]==BC_1][6].astype(float)\n",
    "    vel_east_2t = MITLL_Data[MITLL_Data[1]==BC_2][7].astype(float)\n",
    "\n",
    "    vel_north_1t = MITLL_Data[MITLL_Data[1]==BC_1][8].astype(float)\n",
    "    vel_north_2t = MITLL_Data[MITLL_Data[1]==BC_2][8].astype(float)\n",
    "\n",
    "    vel_up_1t = MITLL_Data[MITLL_Data[1]==BC_1][9].astype(float)\n",
    "    vel_up_2t = MITLL_Data[MITLL_Data[1]==BC_2][9].astype(float)\n",
    "\n",
    "\n",
    "    # The local coordinate origin \n",
    "    lat0 = np.array(0.6026) # deg\n",
    "    lon0 = np.array(-2.05450)  # deg\n",
    "    alt0 = np.array(0.2959)     # meters\n",
    "\n",
    "    east_0, north_0, up_0 = pm.geodetic2enu(lat0/pi*180, lon0/pi*180, alt0*1852, lat0/pi*180, lon0/pi*180, alt0*1852)\n",
    "\n",
    "    east_1t, north_1t, up_1t = pm.geodetic2enu(lat_1/pi*180, lon_1/pi*180, alt_1*1852, lat0/pi*180, lon0/pi*180, alt0*1852)\n",
    "    east_2t, north_2t, up_2t = pm.geodetic2enu(lat_2/pi*180, lon_2/pi*180, alt_2*1852, lat0/pi*180, lon0/pi*180, alt0*1852)\n",
    "\n",
    "    \n",
    "    east_1 = east_1t.reset_index(drop=True)\n",
    "    east_2 = east_2t.reset_index(drop=True)\n",
    "\n",
    "    north_1 = north_1t.reset_index(drop=True)\n",
    "    north_2 = north_2t.reset_index(drop=True)\n",
    "\n",
    "    up_1 = up_1t.reset_index(drop=True)\n",
    "    up_2 = up_2t.reset_index(drop=True)\n",
    "\n",
    "    vel_east_1 = vel_east_1t.reset_index(drop=True)\n",
    "    vel_east_2 = vel_east_2t.reset_index(drop=True)\n",
    "\n",
    "    vel_north_1 = vel_north_1t.reset_index(drop=True)\n",
    "    vel_north_2 = vel_north_2t.reset_index(drop=True)\n",
    " \n",
    "    vel_up_1 = vel_up_1t.reset_index(drop=True)\n",
    "    vel_up_2 = vel_up_2t.reset_index(drop=True)\n",
    "    \n",
    "    \n",
    "    #east_1 = np.array(east_1ttt).reshape(1,len(east_1ttt))\n",
    "    #east_2 = np.array(east_2ttt).reshape(1,len(east_2ttt))\n",
    "    \n",
    "    #north_1 = np.array(north_1ttt).reshape(1,len(north_1ttt))\n",
    "    #north_2 = np.array(north_2ttt).reshape(1,len(north_2ttt))\n",
    "    \n",
    "    #up_1 = np.array(up_1ttt).reshape(1,len(up_1ttt))\n",
    "    #up_2 = np.array(up_2ttt).reshape(1,len(up_2ttt))\n",
    "    \n",
    "    #vel_east_1 = np.array(vel_east_1ttt).reshape(1,len(vel_east_1ttt))\n",
    "    #vel_east_2 = np.array(vel_east_2ttt).reshape(1,len(vel_east_2ttt))\n",
    "    \n",
    "    #vel_north_1 = np.array(vel_north_1ttt).reshape(1,len(vel_north_1ttt))\n",
    "    #vel_north_2 = np.array(vel_north_2ttt).reshape(1,len(vel_north_2ttt))\n",
    "    \n",
    "    #vel_up_1 = np.array(vel_up_1ttt).reshape(1,len(vel_up_1ttt))\n",
    "    #vel_up_2 = np.array(vel_up_2ttt).reshape(1,len(vel_up_2ttt))\n",
    "\n",
    "    \n",
    "    x = [east_1, north_1, up_1, vel_east_1, vel_north_1, vel_up_1, east_2, north_2, up_2, vel_east_2, vel_north_2, vel_up_2]\n",
    "    \n",
    "    X.append(x)\n",
    "\n",
    "    \n",
    "    #------------------------------- Class\n",
    "    \n",
    "    x_t = np.array(x)\n",
    "    \n",
    "    H_dis_v = (np.sqrt((x_t[0] - x_t[6])**2 + (x_t[1] - x_t[7])**2)/1852)\n",
    "    V_dis_v = (np.abs(x_t[2] - x_t[8])*3.28084)\n",
    "    \n",
    "    H_dis = (np.sqrt((x_t[0] - x_t[6])**2 + (x_t[1] - x_t[7])**2)/1852<1)*1\n",
    "    #V_dis = (np.abs(x_t[2] - x_t[8])*3.28084<400)*1\n",
    "    V_dis = (np.abs(x_t[2] - x_t[8])*3.28084<400)*1\n",
    "    \n",
    "    #-------------------------------\n",
    "    \n",
    "    Dis = H_dis*V_dis\n",
    "    C_d = np.sum(Dis)\n",
    "    \n",
    "    #C_d = np.sum(V_dis)\n",
    "    #C_d = np.sum(H_dis)\n",
    "    \n",
    "    y = (C_d>0)*1\n",
    "    \n",
    "    Y.append(y)\n",
    "    \n",
    "    \n",
    "    #-------------------------------\n",
    "\n",
    "    #-----------------------------------------------Prepare np_array for CSV output\n",
    "\n",
    "    y_array = np.ones(shape=(len(east_1),))*np.array(y)\n",
    "    #x_array = x_t.reshape(-1,12)\n",
    "    \n",
    "    #X_csv[:,i_enc*13 + 1] =  x_t[0]/1852\n",
    "    #X_csv[:,i_enc*13 + 2] =  x_t[1]/1852\n",
    "    #X_csv[:,i_enc*13 + 3] =  x_t[2]/1852\n",
    "    #X_csv[:,i_enc*13 + 4] =  x_t[3]\n",
    "    #X_csv[:,i_enc*13 + 5] =  x_t[4]\n",
    "    #X_csv[:,i_enc*13 + 6] =  x_t[5]\n",
    "    #X_csv[:,i_enc*13 + 7] =  x_t[6]/1852\n",
    "    #X_csv[:,i_enc*13 + 8] =  x_t[7]/1852\n",
    "    #X_csv[:,i_enc*13 + 9] =  x_t[8]/1852\n",
    "    #X_csv[:,i_enc*13 + 10] =  x_t[9]\n",
    "    #X_csv[:,i_enc*13 + 11] =  x_t[10]\n",
    "    #X_csv[:,i_enc*13 + 12] =  x_t[11]\n",
    "\n",
    "    #X_csv[:,i_enc*13 + 13] =  y_array\n",
    "\n",
    "    #-----------------------------------------------\n",
    "\n",
    "time = MITLL_Data[MITLL_Data[1]==BC_1][0].astype(float)\n",
    "\n",
    "X_csv[:,0] =  time\n",
    "    \n",
    "X = np.array(X)\n",
    "Y = np.array(Y)\n",
    "\n",
    "\n",
    "\n",
    "Data_Frame = pd.DataFrame(X_csv)\n",
    "    \n",
    "Data_Frame.to_csv('F:\\SBIR-2020\\RNN-Classification-Papers\\DataSets/MITLL_Correlated_RNN_Data.csv')\n",
    "\n",
    "\n"
   ]
  },
  {
   "cell_type": "code",
   "execution_count": 336,
   "metadata": {},
   "outputs": [
    {
     "data": {
      "text/plain": [
       "array([1])"
      ]
     },
     "execution_count": 336,
     "metadata": {},
     "output_type": "execute_result"
    }
   ],
   "source": [
    "Y"
   ]
  },
  {
   "cell_type": "code",
   "execution_count": 337,
   "metadata": {
    "scrolled": true
   },
   "outputs": [
    {
     "data": {
      "text/plain": [
       "[<matplotlib.lines.Line2D at 0x281800982b0>]"
      ]
     },
     "execution_count": 337,
     "metadata": {},
     "output_type": "execute_result"
    },
    {
     "data": {
      "image/png": "[encoded data removed]",
      "text/plain": [
       "<Figure size 432x288 with 1 Axes>"
      ]
     },
     "metadata": {
      "needs_background": "light"
     },
     "output_type": "display_data"
    }
   ],
   "source": [
    "#=================\n",
    "V_P = plt.subplot(111)\n",
    "#=================    \n",
    "V_P.plot(H_dis_v, '.b', label='Track_1')    \n"
   ]
  },
  {
   "cell_type": "code",
   "execution_count": 338,
   "metadata": {
    "scrolled": true
   },
   "outputs": [
    {
     "data": {
      "text/plain": [
       "[<matplotlib.lines.Line2D at 0x28190130160>]"
      ]
     },
     "execution_count": 338,
     "metadata": {},
     "output_type": "execute_result"
    },
    {
     "data": {
      "image/png": "[encoded data removed]",
      "text/plain": [
       "<Figure size 432x288 with 1 Axes>"
      ]
     },
     "metadata": {
      "needs_background": "light"
     },
     "output_type": "display_data"
    }
   ],
   "source": [
    "#=================\n",
    "V_P = plt.subplot(111)\n",
    "#=================    \n",
    "V_P.plot(V_dis_v, '.r', label='Track_1')    \n"
   ]
  },
  {
   "cell_type": "code",
   "execution_count": 339,
   "metadata": {
    "scrolled": false
   },
   "outputs": [
    {
     "data": {
      "text/plain": [
       "[<matplotlib.lines.Line2D at 0x281f6a5dbe0>]"
      ]
     },
     "execution_count": 339,
     "metadata": {},
     "output_type": "execute_result"
    },
    {
     "data": {
      "image/png": "[encoded data removed]",
      "text/plain": [
       "<Figure size 432x288 with 1 Axes>"
      ]
     },
     "metadata": {
      "needs_background": "light"
     },
     "output_type": "display_data"
    }
   ],
   "source": [
    "#=================\n",
    "V_P = plt.subplot(111)\n",
    "#=================    \n",
    "V_P.plot(H_dis, 'ob', label='Track_1')    \n",
    "V_P.plot(V_dis, '.r', label='Track_1')    \n",
    "V_P.plot(Dis, '--k', label='Track_1')    "
   ]
  },
  {
   "cell_type": "code",
   "execution_count": 251,
   "metadata": {
    "scrolled": true
   },
   "outputs": [
    {
     "data": {
      "text/plain": [
       "array([8.27073668, 8.21290412, 8.15507894, 8.09726148, 8.03945155,\n",
       "       7.98164983, 7.92385598, 7.86607003, 7.80829265, 7.75052394,\n",
       "       7.6927641 , 7.63501309, 7.57727126, 7.51953933, 7.46181644,\n",
       "       7.40410341, 7.34640069, 7.28870829, 7.23102622, 7.1733552 ,\n",
       "       7.11569486, 7.05804636, 7.00040925, 6.9427839 , 6.8851711 ,\n",
       "       6.827571  , 6.76998317, 6.71240869, 6.65484806, 6.59730115,\n",
       "       6.53976849, 6.48225028, 6.42474717, 6.36725965, 6.30978765,\n",
       "       6.25233242, 6.19489361, 6.13747216, 6.08006815, 6.02268243,\n",
       "       5.96531526, 5.9079677 , 5.8506398 , 5.79333248, 5.73604588,\n",
       "       5.67878138, 5.62153862, 5.56431938, 5.50712397, 5.44995247,\n",
       "       5.39280665, 5.335687  , 5.2785941 , 5.22152909, 5.16449291,\n",
       "       5.10748583, 5.05050988, 4.99356583, 4.93665471, 4.87977695,\n",
       "       4.82293493, 4.76612935, 4.70936141, 4.65263273, 4.59594436,\n",
       "       4.5392986 , 4.48269633, 4.42613961, 4.36962976, 4.31316908,\n",
       "       4.25675942, 4.20040298, 4.1441011 , 4.08785713, 4.03167318,\n",
       "       3.97555135, 3.91949476, 3.8635062 , 3.80758836, 3.75174464,\n",
       "       3.69597889, 3.64029358, 3.5846935 , 3.52918164, 3.47376331,\n",
       "       3.41844229, 3.3632238 , 3.3081129 , 3.25311479, 3.19823597,\n",
       "       3.14348191, 3.08885935, 3.03437571, 2.9800389 , 2.92585611,\n",
       "       2.87183711, 2.81799023, 2.76432697, 2.71085679, 2.65759209,\n",
       "       2.6045458 , 2.55173049, 2.49836019, 2.44445172, 2.39002293,\n",
       "       2.33509412, 2.27968471, 2.22381676, 2.16751195, 2.11079514,\n",
       "       2.05369114, 1.99622717, 1.93843148, 1.88033502, 1.8219704 ,\n",
       "       1.76337356, 1.70458215, 1.64563747, 1.5865854 , 1.52747524,\n",
       "       1.46836307, 1.40931021, 1.35038545, 1.29166777, 1.23324695,\n",
       "       1.17522607, 1.11772628, 1.06127791, 1.00607453, 0.9519322 ,\n",
       "       0.89905245, 0.84813688, 0.79983838, 0.75466   , 0.71319479,\n",
       "       0.67612631, 0.64421394, 0.61825637, 0.59902861, 0.5871918 ,\n",
       "       0.58319645, 0.58720254, 0.59904931, 0.61828645, 0.64425241,\n",
       "       0.67617225, 0.7132473 , 0.75471787, 0.79990082, 0.84820287])"
      ]
     },
     "execution_count": 251,
     "metadata": {},
     "output_type": "execute_result"
    }
   ],
   "source": [
    "H_dis_v"
   ]
  },
  {
   "cell_type": "code",
   "execution_count": 252,
   "metadata": {},
   "outputs": [
    {
     "data": {
      "text/plain": [
       "array([461.21160231, 461.08164427, 460.95168686, 460.82173015,\n",
       "       460.69177225, 460.56181222, 460.43185507, 460.30189795,\n",
       "       460.17193972, 460.04198328, 459.91202752, 459.78206883,\n",
       "       459.6521126 , 459.52215437, 459.39219642, 459.26224093,\n",
       "       459.1322842 , 459.00232343, 458.87236748, 458.74241088,\n",
       "       458.61245272, 458.48249451, 458.35253817, 458.22258056,\n",
       "       458.0926256 , 457.96266648, 457.83270861, 457.70275119,\n",
       "       457.57279281, 457.44283617, 457.31287816, 457.18292148,\n",
       "       457.05296464, 456.92300588, 456.79304901, 456.66309049,\n",
       "       456.53313645, 456.40317772, 456.27322106, 456.14326293,\n",
       "       456.01330443, 455.88334779, 455.75339206, 455.62343184,\n",
       "       455.49347529, 455.36351833, 455.23356227, 455.1036041 ,\n",
       "       454.97364608, 454.84368883, 454.71373073, 454.583774  ,\n",
       "       454.45381782, 454.32385983, 454.19390261, 454.06394421,\n",
       "       453.93398693, 453.8040286 , 453.67407226, 453.54411518,\n",
       "       453.41415693, 453.28420065, 453.1542418 , 453.02428419,\n",
       "       452.89432864, 452.76437193, 452.63441448, 452.50445647,\n",
       "       452.37449846, 452.2445405 , 452.11458385, 451.98462608,\n",
       "       451.8546691 , 451.72471189, 451.59475494, 451.46479722,\n",
       "       451.33484008, 451.20488251, 451.07492402, 450.9449677 ,\n",
       "       450.81501062, 450.68505186, 450.55509618, 450.42513719,\n",
       "       450.29517991, 450.16522251, 450.03526497, 449.90530917,\n",
       "       449.77535119, 449.64539312, 449.5154379 , 449.38547936,\n",
       "       449.25552   , 449.12556436, 448.99560575, 448.8656494 ,\n",
       "       448.73569101, 448.60573403, 448.4757773 , 448.3458186 ,\n",
       "       448.21586388, 448.08590544, 447.95140304, 447.8123011 ,\n",
       "       447.66854111, 447.52008077, 447.36687633, 447.20889397,\n",
       "       447.04610039, 446.87847311, 446.70599592, 446.52865383,\n",
       "       446.3464415 , 446.159356  , 445.96740405, 445.77059818,\n",
       "       445.56895502, 445.36249443, 445.15124619, 444.93524521,\n",
       "       444.71453291, 444.48915375, 444.25915789, 444.02460324,\n",
       "       443.7855531 , 443.54207318, 443.2942422 , 443.04484264,\n",
       "       442.79388975, 442.53841302, 442.27847771, 442.0170229 ,\n",
       "       441.75556586, 441.49410969, 441.23265449, 440.97119829,\n",
       "       440.7097437 , 440.44828736, 440.18683145, 439.92537417,\n",
       "       439.6639196 , 439.40246293, 439.14100759, 438.87955223,\n",
       "       438.618096  , 438.35664075, 438.09518515, 437.83372815,\n",
       "       437.57227174, 437.31081703])"
      ]
     },
     "execution_count": 252,
     "metadata": {},
     "output_type": "execute_result"
    }
   ],
   "source": [
    "V_dis_v"
   ]
  },
  {
   "cell_type": "code",
   "execution_count": 139,
   "metadata": {},
   "outputs": [
    {
     "data": {
      "text/plain": [
       "[<matplotlib.lines.Line2D at 0x281fc6b7cf8>]"
      ]
     },
     "execution_count": 139,
     "metadata": {},
     "output_type": "execute_result"
    },
    {
     "data": {
      "image/png": "[encoded data removed]",
      "text/plain": [
       "<Figure size 432x288 with 1 Axes>"
      ]
     },
     "metadata": {
      "needs_background": "light"
     },
     "output_type": "display_data"
    }
   ],
   "source": [
    "#=================\n",
    "V_P = plt.subplot(111)\n",
    "#=================    \n",
    "V_P.plot(V_dis, '.b', label='Track_1')    \n"
   ]
  },
  {
   "cell_type": "code",
   "execution_count": 54,
   "metadata": {},
   "outputs": [
    {
     "data": {
      "text/plain": [
       "(20, 150)"
      ]
     },
     "execution_count": 54,
     "metadata": {},
     "output_type": "execute_result"
    }
   ],
   "source": [
    "X.shape"
   ]
  },
  {
   "cell_type": "code",
   "execution_count": 53,
   "metadata": {
    "scrolled": true
   },
   "outputs": [
    {
     "data": {
      "text/html": [
       "<div>\n",
       "<style scoped>\n",
       "    .dataframe tbody tr th:only-of-type {\n",
       "        vertical-align: middle;\n",
       "    }\n",
       "\n",
       "    .dataframe tbody tr th {\n",
       "        vertical-align: top;\n",
       "    }\n",
       "\n",
       "    .dataframe thead th {\n",
       "        text-align: right;\n",
       "    }\n",
       "</style>\n",
       "<table border=\"1\" class=\"dataframe\">\n",
       "  <thead>\n",
       "    <tr style=\"text-align: right;\">\n",
       "      <th></th>\n",
       "      <th>0</th>\n",
       "      <th>1</th>\n",
       "      <th>2</th>\n",
       "      <th>3</th>\n",
       "      <th>4</th>\n",
       "      <th>5</th>\n",
       "      <th>6</th>\n",
       "      <th>7</th>\n",
       "      <th>8</th>\n",
       "      <th>9</th>\n",
       "      <th>...</th>\n",
       "      <th>121</th>\n",
       "      <th>122</th>\n",
       "      <th>123</th>\n",
       "      <th>124</th>\n",
       "      <th>125</th>\n",
       "      <th>126</th>\n",
       "      <th>127</th>\n",
       "      <th>128</th>\n",
       "      <th>129</th>\n",
       "      <th>130</th>\n",
       "    </tr>\n",
       "  </thead>\n",
       "  <tbody>\n",
       "    <tr>\n",
       "      <td>0</td>\n",
       "      <td>1.0</td>\n",
       "      <td>-3.199313</td>\n",
       "      <td>-2.984004</td>\n",
       "      <td>0.124571</td>\n",
       "      <td>9.0</td>\n",
       "      <td>128.789091</td>\n",
       "      <td>-0.438327</td>\n",
       "      <td>3.081172</td>\n",
       "      <td>9.263206</td>\n",
       "      <td>0.021468</td>\n",
       "      <td>...</td>\n",
       "      <td>9.0</td>\n",
       "      <td>-19.721246</td>\n",
       "      <td>-0.212487</td>\n",
       "      <td>0.078437</td>\n",
       "      <td>9.342512</td>\n",
       "      <td>0.080187</td>\n",
       "      <td>59.326223</td>\n",
       "      <td>-177.011374</td>\n",
       "      <td>-0.394435</td>\n",
       "      <td>0.0</td>\n",
       "    </tr>\n",
       "    <tr>\n",
       "      <td>1</td>\n",
       "      <td>2.0</td>\n",
       "      <td>-3.157136</td>\n",
       "      <td>-2.948256</td>\n",
       "      <td>0.124520</td>\n",
       "      <td>9.0</td>\n",
       "      <td>128.787822</td>\n",
       "      <td>-0.435130</td>\n",
       "      <td>3.069469</td>\n",
       "      <td>9.216880</td>\n",
       "      <td>0.021508</td>\n",
       "      <td>...</td>\n",
       "      <td>9.0</td>\n",
       "      <td>-19.722421</td>\n",
       "      <td>-0.210749</td>\n",
       "      <td>0.094917</td>\n",
       "      <td>9.293342</td>\n",
       "      <td>0.080211</td>\n",
       "      <td>59.325639</td>\n",
       "      <td>-177.011576</td>\n",
       "      <td>-0.391616</td>\n",
       "      <td>0.0</td>\n",
       "    </tr>\n",
       "    <tr>\n",
       "      <td>2</td>\n",
       "      <td>3.0</td>\n",
       "      <td>-3.114959</td>\n",
       "      <td>-2.912508</td>\n",
       "      <td>0.124468</td>\n",
       "      <td>9.0</td>\n",
       "      <td>128.786552</td>\n",
       "      <td>-0.431932</td>\n",
       "      <td>3.057767</td>\n",
       "      <td>9.170555</td>\n",
       "      <td>0.021548</td>\n",
       "      <td>...</td>\n",
       "      <td>9.0</td>\n",
       "      <td>-19.723597</td>\n",
       "      <td>-0.209011</td>\n",
       "      <td>0.111397</td>\n",
       "      <td>9.244173</td>\n",
       "      <td>0.080235</td>\n",
       "      <td>59.325056</td>\n",
       "      <td>-177.011777</td>\n",
       "      <td>-0.388797</td>\n",
       "      <td>0.0</td>\n",
       "    </tr>\n",
       "    <tr>\n",
       "      <td>3</td>\n",
       "      <td>4.0</td>\n",
       "      <td>-3.072781</td>\n",
       "      <td>-2.876760</td>\n",
       "      <td>0.124417</td>\n",
       "      <td>9.0</td>\n",
       "      <td>128.785283</td>\n",
       "      <td>-0.428734</td>\n",
       "      <td>3.046065</td>\n",
       "      <td>9.124230</td>\n",
       "      <td>0.021587</td>\n",
       "      <td>...</td>\n",
       "      <td>9.0</td>\n",
       "      <td>-19.724773</td>\n",
       "      <td>-0.207273</td>\n",
       "      <td>0.127878</td>\n",
       "      <td>9.195003</td>\n",
       "      <td>0.080259</td>\n",
       "      <td>59.324472</td>\n",
       "      <td>-177.011979</td>\n",
       "      <td>-0.385977</td>\n",
       "      <td>0.0</td>\n",
       "    </tr>\n",
       "    <tr>\n",
       "      <td>4</td>\n",
       "      <td>5.0</td>\n",
       "      <td>-3.030603</td>\n",
       "      <td>-2.841012</td>\n",
       "      <td>0.124365</td>\n",
       "      <td>9.0</td>\n",
       "      <td>128.784013</td>\n",
       "      <td>-0.425537</td>\n",
       "      <td>3.034362</td>\n",
       "      <td>9.077905</td>\n",
       "      <td>0.021627</td>\n",
       "      <td>...</td>\n",
       "      <td>9.0</td>\n",
       "      <td>-19.725949</td>\n",
       "      <td>-0.205535</td>\n",
       "      <td>0.144358</td>\n",
       "      <td>9.145833</td>\n",
       "      <td>0.080283</td>\n",
       "      <td>59.323889</td>\n",
       "      <td>-177.012181</td>\n",
       "      <td>-0.383158</td>\n",
       "      <td>0.0</td>\n",
       "    </tr>\n",
       "  </tbody>\n",
       "</table>\n",
       "<p>5 rows × 131 columns</p>\n",
       "</div>"
      ],
      "text/plain": [
       "   0         1         2         3    4           5         6         7    \\\n",
       "0  1.0 -3.199313 -2.984004  0.124571  9.0  128.789091 -0.438327  3.081172   \n",
       "1  2.0 -3.157136 -2.948256  0.124520  9.0  128.787822 -0.435130  3.069469   \n",
       "2  3.0 -3.114959 -2.912508  0.124468  9.0  128.786552 -0.431932  3.057767   \n",
       "3  4.0 -3.072781 -2.876760  0.124417  9.0  128.785283 -0.428734  3.046065   \n",
       "4  5.0 -3.030603 -2.841012  0.124365  9.0  128.784013 -0.425537  3.034362   \n",
       "\n",
       "        8         9    ...  121        122       123       124       125  \\\n",
       "0  9.263206  0.021468  ...  9.0 -19.721246 -0.212487  0.078437  9.342512   \n",
       "1  9.216880  0.021508  ...  9.0 -19.722421 -0.210749  0.094917  9.293342   \n",
       "2  9.170555  0.021548  ...  9.0 -19.723597 -0.209011  0.111397  9.244173   \n",
       "3  9.124230  0.021587  ...  9.0 -19.724773 -0.207273  0.127878  9.195003   \n",
       "4  9.077905  0.021627  ...  9.0 -19.725949 -0.205535  0.144358  9.145833   \n",
       "\n",
       "        126        127         128       129  130  \n",
       "0  0.080187  59.326223 -177.011374 -0.394435  0.0  \n",
       "1  0.080211  59.325639 -177.011576 -0.391616  0.0  \n",
       "2  0.080235  59.325056 -177.011777 -0.388797  0.0  \n",
       "3  0.080259  59.324472 -177.011979 -0.385977  0.0  \n",
       "4  0.080283  59.323889 -177.012181 -0.383158  0.0  \n",
       "\n",
       "[5 rows x 131 columns]"
      ]
     },
     "execution_count": 53,
     "metadata": {},
     "output_type": "execute_result"
    }
   ],
   "source": [
    "Data_Frame.head()"
   ]
  },
  {
   "cell_type": "code",
   "execution_count": 44,
   "metadata": {},
   "outputs": [
    {
     "data": {
      "text/plain": [
       "(10, 2, 150)"
      ]
     },
     "execution_count": 44,
     "metadata": {},
     "output_type": "execute_result"
    }
   ],
   "source": [
    "X.shape"
   ]
  },
  {
   "cell_type": "code",
   "execution_count": 43,
   "metadata": {},
   "outputs": [
    {
     "data": {
      "text/plain": [
       "0"
      ]
     },
     "execution_count": 43,
     "metadata": {},
     "output_type": "execute_result"
    }
   ],
   "source": [
    "Y[0]"
   ]
  },
  {
   "cell_type": "code",
   "execution_count": 41,
   "metadata": {},
   "outputs": [
    {
     "data": {
      "text/plain": [
       "[<matplotlib.lines.Line2D at 0x281ede8a4a8>]"
      ]
     },
     "execution_count": 41,
     "metadata": {},
     "output_type": "execute_result"
    },
    {
     "data": {
      "image/png": "[encoded data removed]",
      "text/plain": [
       "<Figure size 432x288 with 1 Axes>"
      ]
     },
     "metadata": {
      "needs_background": "light"
     },
     "output_type": "display_data"
    }
   ],
   "source": [
    "#=================\n",
    "V_P = plt.subplot(111)\n",
    "#=================    \n",
    "V_P.plot(X[0,:,0], '.b', label='Track_1')    \n"
   ]
  },
  {
   "cell_type": "code",
   "execution_count": 125,
   "metadata": {
    "scrolled": true
   },
   "outputs": [
    {
     "data": {
      "text/plain": [
       "261"
      ]
     },
     "execution_count": 125,
     "metadata": {},
     "output_type": "execute_result"
    }
   ],
   "source": [
    "np.sum(Y)"
   ]
  },
  {
   "cell_type": "code",
   "execution_count": 37,
   "metadata": {
    "scrolled": true
   },
   "outputs": [
    {
     "data": {
      "text/plain": [
       "20"
      ]
     },
     "execution_count": 37,
     "metadata": {},
     "output_type": "execute_result"
    }
   ],
   "source": [
    "np.sum(H_dis)"
   ]
  },
  {
   "cell_type": "code",
   "execution_count": 38,
   "metadata": {
    "scrolled": true
   },
   "outputs": [
    {
     "data": {
      "text/plain": [
       "150"
      ]
     },
     "execution_count": 38,
     "metadata": {},
     "output_type": "execute_result"
    }
   ],
   "source": [
    "np.sum(V_dis)"
   ]
  },
  {
   "cell_type": "code",
   "execution_count": 39,
   "metadata": {},
   "outputs": [
    {
     "data": {
      "text/plain": [
       "20"
      ]
     },
     "execution_count": 39,
     "metadata": {},
     "output_type": "execute_result"
    }
   ],
   "source": [
    "np.sum(Dis)"
   ]
  },
  {
   "cell_type": "code",
   "execution_count": 98,
   "metadata": {
    "scrolled": true
   },
   "outputs": [
    {
     "data": {
      "text/plain": [
       "(150,)"
      ]
     },
     "execution_count": 98,
     "metadata": {},
     "output_type": "execute_result"
    }
   ],
   "source": [
    "x_t[0].shape"
   ]
  },
  {
   "cell_type": "code",
   "execution_count": 70,
   "metadata": {},
   "outputs": [],
   "source": [
    "X = []\n",
    "Y = []\n",
    "\n",
    "N_encounter_file = 1\n",
    "\n",
    "X_csv = np.zeros(shape=(150,13*N_encounter_file + 1))    # '150': it is the number of data points for each targets -- '13*N_encounter_file + 1': Number of all columns\n",
    "\n",
    "for i_enc in [1]: #range(N_encounter_file):\n",
    "\n",
    "    #============================== The following line convert a *.txt file with \" \" dilimter to the same file with \",\" dilimeter\n",
    "# But the whole content is written in one column. The next cell below split this column to several column by splitting it \n",
    "# based on \",\" splitting.  /content/drive/My Drive/Colab Notebooks/Correlated-HALE/CSVFiles\n",
    "\n",
    "    with open(arr[i_enc+2]) as infile, open('F:\\SBIR-2020\\RNN-Classification-Papers\\DataSets\\CorrelatedHale1Hz-(MITLL)\\CorrelatedHale1Hz_TEMP/out_truth_mit_ll_' + str(i_enc) + '.csv', 'w') as outfile:\n",
    "         outfile.write(infile.read().replace(\" \", \",\"))\n",
    "\n",
    "    #------------------------------------\n",
    "\n",
    "    df = pd.read_fwf('F:\\SBIR-2020\\RNN-Classification-Papers\\DataSets\\CorrelatedHale1Hz-(MITLL)\\CorrelatedHale1Hz_TEMP/out_truth_mit_ll_' + str(i_enc) + '.csv', header=None)  \n",
    "    \n",
    "    #df = pd.read_fwf('out_msg8001_half.csv', header=None)\n",
    "    MITLL_Data = df[0].str.split(',', expand=True)\n",
    "    \n",
    "    #------------------------------------   \n",
    "    \n",
    "    BC_1 = MITLL_Data[1][0]\n",
    "    BC_2 = MITLL_Data[1][1]\n",
    "\n",
    "    \n",
    "    lat_1 = MITLL_Data[MITLL_Data[1]==BC_1][3].astype(float)\n",
    "    lat_2 = MITLL_Data[MITLL_Data[1]==BC_2][3].astype(float)\n",
    "\n",
    "    lon_1 = MITLL_Data[MITLL_Data[1]==BC_1][4].astype(float)\n",
    "    lon_2 = MITLL_Data[MITLL_Data[1]==BC_2][4].astype(float)\n",
    "   \n",
    "    alt_1 = MITLL_Data[MITLL_Data[1]==BC_1][5].astype(float)\n",
    "    alt_2 = MITLL_Data[MITLL_Data[1]==BC_2][5].astype(float)\n",
    "\n",
    "    vel_east_1t = MITLL_Data[MITLL_Data[1]==BC_1][7].astype(float)\n",
    "    vel_east_2t = MITLL_Data[MITLL_Data[1]==BC_2][7].astype(float)\n",
    "\n",
    "    vel_north_1t = MITLL_Data[MITLL_Data[1]==BC_1][8].astype(float)\n",
    "    vel_north_2t = MITLL_Data[MITLL_Data[1]==BC_2][8].astype(float)\n",
    "\n",
    "    vel_up_1t = MITLL_Data[MITLL_Data[1]==BC_1][9].astype(float)\n",
    "    vel_up_2t = MITLL_Data[MITLL_Data[1]==BC_2][9].astype(float)\n",
    "\n",
    "\n",
    "    # The local coordinate origin \n",
    "    lat0 = np.array(0.6026) # deg\n",
    "    lon0 = np.array(-2.05450)  # deg\n",
    "    alt0 = np.array(0.2959)     # meters\n",
    "\n",
    "    east_0, north_0, up_0 = pm.geodetic2enu(lat0/pi*180, lon0/pi*180, alt0*1852, lat0/pi*180, lon0/pi*180, alt0*1852)\n",
    "\n",
    "    east_1t, north_1t, up_1t = pm.geodetic2enu(lat_1/pi*180, lon_1/pi*180, alt_1*1852, lat0/pi*180, lon0/pi*180, alt0*1852)\n",
    "    east_2t, north_2t, up_2t = pm.geodetic2enu(lat_2/pi*180, lon_2/pi*180, alt_2*1852, lat0/pi*180, lon0/pi*180, alt0*1852)\n",
    "\n",
    "    \n",
    "    east_1 = east_1t.reset_index(drop=True)\n",
    "    east_2 = east_2t.reset_index(drop=True)\n",
    "\n",
    "    north_1 = north_1t.reset_index(drop=True)\n",
    "    north_2 = north_2t.reset_index(drop=True)\n",
    "\n",
    "    up_1 = up_1t.reset_index(drop=True)\n",
    "    up_2 = up_2t.reset_index(drop=True)\n",
    "\n",
    "    vel_east_1 = vel_east_1t.reset_index(drop=True)\n",
    "    vel_east_2 = vel_east_2t.reset_index(drop=True)\n",
    "\n",
    "    vel_north_1 = vel_north_1t.reset_index(drop=True)\n",
    "    vel_north_2 = vel_north_2t.reset_index(drop=True)\n",
    " \n",
    "    vel_up_1 = vel_up_1t.reset_index(drop=True)\n",
    "    vel_up_2 = vel_up_2t.reset_index(drop=True)\n",
    "    \n",
    "    \n",
    "    #east_1 = np.array(east_1ttt).reshape(1,len(east_1ttt))\n",
    "    #east_2 = np.array(east_2ttt).reshape(1,len(east_2ttt))\n",
    "    \n",
    "    #north_1 = np.array(north_1ttt).reshape(1,len(north_1ttt))\n",
    "    #north_2 = np.array(north_2ttt).reshape(1,len(north_2ttt))\n",
    "    \n",
    "    #up_1 = np.array(up_1ttt).reshape(1,len(up_1ttt))\n",
    "    #up_2 = np.array(up_2ttt).reshape(1,len(up_2ttt))\n",
    "    \n",
    "    #vel_east_1 = np.array(vel_east_1ttt).reshape(1,len(vel_east_1ttt))\n",
    "    #vel_east_2 = np.array(vel_east_2ttt).reshape(1,len(vel_east_2ttt))\n",
    "    \n",
    "    #vel_north_1 = np.array(vel_north_1ttt).reshape(1,len(vel_north_1ttt))\n",
    "    #vel_north_2 = np.array(vel_north_2ttt).reshape(1,len(vel_north_2ttt))\n",
    "    \n",
    "    #vel_up_1 = np.array(vel_up_1ttt).reshape(1,len(vel_up_1ttt))\n",
    "    #vel_up_2 = np.array(vel_up_2ttt).reshape(1,len(vel_up_2ttt))\n",
    "\n",
    "    \n",
    "    \n",
    "    \n",
    "    x = [east_1, north_1, up_1, vel_east_1, vel_north_1, vel_up_1, east_2, north_2, up_2, vel_east_2, vel_north_2, vel_up_2]\n",
    "    \n",
    "    X.append(x)\n",
    "\n",
    "    \n",
    "    #------------------------------- Class\n",
    "    \n",
    "    x_t = np.array(x)\n",
    "    \n",
    "    H_dis_v = (np.sqrt((x_t[0] - x_t[6])**2 + (x_t[1] - x_t[7])**2)/1852)*1\n",
    "    V_dis_v = (np.abs(x_t[2] - x_t[8])*3.28084)*1\n",
    "    \n",
    "    H_dis = (np.sqrt((x_t[0] - x_t[6])**2 + (x_t[1] - x_t[7])**2)/1852<1)*1\n",
    "    V_dis = (np.abs(x_t[2] - x_t[8])*3.28084<400)*1\n",
    "    \n",
    "    Dis = H_dis*V_dis\n",
    "    C_d = np.sum(Dis)\n",
    "    \n",
    "    y = (C_d>0)*1\n",
    "    \n",
    "    Y.append(y)\n",
    "    \n",
    "    \n",
    "    #-------------------------------\n",
    "\n",
    "    #-----------------------------------------------Prepare np_array for CSV output\n",
    "\n",
    "    y_array = np.ones(shape=(len(east_1),))*np.array(y)\n",
    "    #x_array = x_t.reshape(-1,12)\n",
    "    \n",
    "    X_csv[:, 1] =  x_t[0]/1852\n",
    "    X_csv[:, 2] =  x_t[1]/1852\n",
    "    X_csv[:, 3] =  x_t[2]/1852\n",
    "    X_csv[:, 4] =  x_t[3]\n",
    "    X_csv[:, 5] =  x_t[4]\n",
    "    X_csv[:, 6] =  x_t[5]\n",
    "    X_csv[:, 7] =  x_t[6]/1852\n",
    "    X_csv[:, 8] =  x_t[7]/1852\n",
    "    X_csv[:, 9] =  x_t[8]/1852\n",
    "    X_csv[:, 10] =  x_t[9]\n",
    "    X_csv[:, 11] =  x_t[10]\n",
    "    X_csv[:, 12] =  x_t[11]\n",
    "\n",
    "    X_csv[:, 13] =  y_array\n",
    "\n",
    "    #-----------------------------------------------\n",
    "\n",
    "time = MITLL_Data[MITLL_Data[1]==BC_1][0].astype(float)\n",
    "\n",
    "X_csv[:,0] =  time\n",
    "    \n",
    "X = np.array(X)\n",
    "Y = np.array(Y)\n",
    "\n",
    "\n"
   ]
  },
  {
   "cell_type": "code",
   "execution_count": 71,
   "metadata": {},
   "outputs": [
    {
     "data": {
      "image/png": "[encoded data removed]",
      "text/plain": [
       "<Figure size 432x288 with 1 Axes>"
      ]
     },
     "metadata": {
      "needs_background": "light"
     },
     "output_type": "display_data"
    }
   ],
   "source": [
    "#=================\n",
    "\n",
    "V_P = plt.subplot(111)\n",
    "\n",
    "#=================\n",
    "    \n",
    "V_P.plot(east_0, north_0, 'ok', label='orign')\n",
    "    \n",
    "V_P.plot(east_1, north_1, '.b', label='Track_1') \n",
    "V_P.plot(east_2, north_2, '.r', label='Track_2')\n",
    "    \n",
    "    #plt.title('Tracks') #, fontsize=18)\n",
    "\n",
    "    #plt.xlabel(\"East (nmi)\") \n",
    "    \n",
    "plt.ylabel(\"North (nmi)\")  \n",
    "plt.tight_layout()\n",
    "\n"
   ]
  },
  {
   "cell_type": "code",
   "execution_count": 72,
   "metadata": {
    "colab": {},
    "colab_type": "code",
    "id": "Go833hf6N-tP",
    "scrolled": true
   },
   "outputs": [
    {
     "data": {
      "image/png": "[encoded data removed]",
      "text/plain": [
       "<Figure size 432x288 with 1 Axes>"
      ]
     },
     "metadata": {
      "needs_background": "light"
     },
     "output_type": "display_data"
    }
   ],
   "source": [
    "#=================\n",
    "\n",
    "V_P = plt.subplot(111)\n",
    "\n",
    "#=================\n",
    "    \n",
    "    \n",
    "V_P.plot(up_1, '.b', label='Track_1') \n",
    "V_P.plot(up_2, '.r', label='Track_2')\n",
    "    \n",
    "    #plt.title('Tracks') #, fontsize=18)\n",
    "\n",
    "    #plt.xlabel(\"East (nmi)\") \n",
    "    \n",
    "plt.ylabel(\"North (nmi)\")  \n",
    "plt.tight_layout()\n",
    "\n"
   ]
  },
  {
   "cell_type": "code",
   "execution_count": 73,
   "metadata": {},
   "outputs": [
    {
     "data": {
      "image/png": "[encoded data removed]",
      "text/plain": [
       "<Figure size 432x288 with 1 Axes>"
      ]
     },
     "metadata": {
      "needs_background": "light"
     },
     "output_type": "display_data"
    }
   ],
   "source": [
    "#=================\n",
    "\n",
    "V_P = plt.subplot(111)\n",
    "\n",
    "#=================\n",
    "        \n",
    "V_P.plot(H_dis_v, '.b', label='Track_1') \n",
    "\n",
    "\n",
    "    #plt.title('Tracks') #, fontsize=18)\n",
    "\n",
    "    #plt.xlabel(\"East (nmi)\") \n",
    "    \n",
    "plt.ylabel(\"North (nmi)\")  \n",
    "plt.tight_layout()"
   ]
  },
  {
   "cell_type": "code",
   "execution_count": 74,
   "metadata": {
    "colab": {},
    "colab_type": "code",
    "id": "0Qiv_dMLAy3N",
    "scrolled": true
   },
   "outputs": [
    {
     "data": {
      "image/png": "[encoded data removed]",
      "text/plain": [
       "<Figure size 432x288 with 1 Axes>"
      ]
     },
     "metadata": {
      "needs_background": "light"
     },
     "output_type": "display_data"
    }
   ],
   "source": [
    "#=================\n",
    "\n",
    "V_P = plt.subplot(111)\n",
    "\n",
    "#=================\n",
    "        \n",
    "V_P.plot(H_dis, '.b', label='Track_1') \n",
    "\n",
    "\n",
    "    #plt.title('Tracks') #, fontsize=18)\n",
    "\n",
    "    #plt.xlabel(\"East (nmi)\") \n",
    "    \n",
    "plt.ylabel(\"North (nmi)\")  \n",
    "plt.tight_layout()"
   ]
  },
  {
   "cell_type": "code",
   "execution_count": 75,
   "metadata": {
    "scrolled": true
   },
   "outputs": [
    {
     "data": {
      "image/png": "[encoded data removed]",
      "text/plain": [
       "<Figure size 432x288 with 1 Axes>"
      ]
     },
     "metadata": {
      "needs_background": "light"
     },
     "output_type": "display_data"
    }
   ],
   "source": [
    "#=================\n",
    "\n",
    "V_P = plt.subplot(111)\n",
    "\n",
    "#=================\n",
    "        \n",
    "V_P.plot(V_dis_v, '.b', label='Track_1') \n",
    "\n",
    "\n",
    "    #plt.title('Tracks') #, fontsize=18)\n",
    "\n",
    "    #plt.xlabel(\"East (nmi)\") \n",
    "    \n",
    "plt.ylabel(\"North (nmi)\")  \n",
    "plt.tight_layout()"
   ]
  },
  {
   "cell_type": "code",
   "execution_count": 76,
   "metadata": {},
   "outputs": [
    {
     "data": {
      "text/plain": [
       "4.314313906589269"
      ]
     },
     "execution_count": 76,
     "metadata": {},
     "output_type": "execute_result"
    }
   ],
   "source": [
    "np.amin(V_dis_v)"
   ]
  },
  {
   "cell_type": "code",
   "execution_count": 77,
   "metadata": {},
   "outputs": [
    {
     "data": {
      "image/png": "[encoded data removed]",
      "text/plain": [
       "<Figure size 432x288 with 1 Axes>"
      ]
     },
     "metadata": {
      "needs_background": "light"
     },
     "output_type": "display_data"
    }
   ],
   "source": [
    "#=================\n",
    "\n",
    "V_P = plt.subplot(111)\n",
    "\n",
    "#=================\n",
    "        \n",
    "V_P.plot(V_dis, '.b', label='Track_1') \n",
    "\n",
    "\n",
    "    #plt.title('Tracks') #, fontsize=18)\n",
    "\n",
    "    #plt.xlabel(\"East (nmi)\") \n",
    "    \n",
    "plt.ylabel(\"North (nmi)\")  \n",
    "plt.tight_layout()"
   ]
  },
  {
   "cell_type": "code",
   "execution_count": 78,
   "metadata": {
    "colab": {},
    "colab_type": "code",
    "id": "MTJepqN60yCk"
   },
   "outputs": [
    {
     "data": {
      "image/png": "[encoded data removed]",
      "text/plain": [
       "<Figure size 432x288 with 1 Axes>"
      ]
     },
     "metadata": {
      "needs_background": "light"
     },
     "output_type": "display_data"
    }
   ],
   "source": [
    "#=================\n",
    "\n",
    "V_P = plt.subplot(111)\n",
    "\n",
    "#=================\n",
    "    \n",
    "V_P.plot(np.abs(vel_up_1-vel_up_2), '.b', label='Track_1') \n",
    "\n",
    "\n",
    "    #plt.title('Tracks') #, fontsize=18)\n",
    "\n",
    "    #plt.xlabel(\"East (nmi)\") \n",
    "    \n",
    "plt.ylabel(\"North (nmi)\")  \n",
    "plt.tight_layout()"
   ]
  },
  {
   "cell_type": "code",
   "execution_count": 63,
   "metadata": {
    "colab": {},
    "colab_type": "code",
    "id": "TfC7tJo62acy"
   },
   "outputs": [
    {
     "data": {
      "text/plain": [
       "5.144444444444445"
      ]
     },
     "execution_count": 63,
     "metadata": {},
     "output_type": "execute_result"
    }
   ],
   "source": [
    "a = 10*1852/3600\n",
    "a"
   ]
  },
  {
   "cell_type": "code",
   "execution_count": 64,
   "metadata": {},
   "outputs": [
    {
     "data": {
      "text/plain": [
       "15.433333333333334"
      ]
     },
     "execution_count": 64,
     "metadata": {},
     "output_type": "execute_result"
    }
   ],
   "source": [
    "a*3"
   ]
  },
  {
   "cell_type": "code",
   "execution_count": 80,
   "metadata": {},
   "outputs": [
    {
     "data": {
      "image/png": "[encoded data removed]",
      "text/plain": [
       "<Figure size 432x288 with 1 Axes>"
      ]
     },
     "metadata": {
      "needs_background": "light"
     },
     "output_type": "display_data"
    }
   ],
   "source": [
    "#=================\n",
    "\n",
    "V_P = plt.subplot(111)\n",
    "\n",
    "#=================\n",
    "        \n",
    "V_P.plot(Dis, '.b', label='Track_1') \n",
    "\n",
    "\n",
    "    #plt.title('Tracks') #, fontsize=18)\n",
    "\n",
    "    #plt.xlabel(\"East (nmi)\") \n",
    "    \n",
    "plt.ylabel(\"North (nmi)\")  \n",
    "plt.tight_layout()"
   ]
  },
  {
   "cell_type": "code",
   "execution_count": 36,
   "metadata": {},
   "outputs": [
    {
     "data": {
      "text/html": [
       "<div>\n",
       "<style scoped>\n",
       "    .dataframe tbody tr th:only-of-type {\n",
       "        vertical-align: middle;\n",
       "    }\n",
       "\n",
       "    .dataframe tbody tr th {\n",
       "        vertical-align: top;\n",
       "    }\n",
       "\n",
       "    .dataframe thead th {\n",
       "        text-align: right;\n",
       "    }\n",
       "</style>\n",
       "<table border=\"1\" class=\"dataframe\">\n",
       "  <thead>\n",
       "    <tr style=\"text-align: right;\">\n",
       "      <th></th>\n",
       "      <th>Unnamed: 0</th>\n",
       "      <th>0</th>\n",
       "      <th>1</th>\n",
       "      <th>2</th>\n",
       "      <th>3</th>\n",
       "      <th>4</th>\n",
       "      <th>5</th>\n",
       "      <th>6</th>\n",
       "      <th>7</th>\n",
       "      <th>8</th>\n",
       "      <th>...</th>\n",
       "      <th>12991</th>\n",
       "      <th>12992</th>\n",
       "      <th>12993</th>\n",
       "      <th>12994</th>\n",
       "      <th>12995</th>\n",
       "      <th>12996</th>\n",
       "      <th>12997</th>\n",
       "      <th>12998</th>\n",
       "      <th>12999</th>\n",
       "      <th>13000</th>\n",
       "    </tr>\n",
       "  </thead>\n",
       "  <tbody>\n",
       "    <tr>\n",
       "      <td>0</td>\n",
       "      <td>0</td>\n",
       "      <td>1.00</td>\n",
       "      <td>4201.571912</td>\n",
       "      <td>-4787.708852</td>\n",
       "      <td>200.208489</td>\n",
       "      <td>-2.852344</td>\n",
       "      <td>65.886909</td>\n",
       "      <td>-0.095653</td>\n",
       "      <td>11211.754660</td>\n",
       "      <td>8758.293086</td>\n",
       "      <td>...</td>\n",
       "      <td>0.0</td>\n",
       "      <td>71.948626</td>\n",
       "      <td>-4.007105</td>\n",
       "      <td>2857.013208</td>\n",
       "      <td>1611.587568</td>\n",
       "      <td>-459.096517</td>\n",
       "      <td>16.887986</td>\n",
       "      <td>24.016438</td>\n",
       "      <td>-0.013761</td>\n",
       "      <td>0.0</td>\n",
       "    </tr>\n",
       "    <tr>\n",
       "      <td>1</td>\n",
       "      <td>1</td>\n",
       "      <td>1.01</td>\n",
       "      <td>4201.543189</td>\n",
       "      <td>-4787.049681</td>\n",
       "      <td>200.208048</td>\n",
       "      <td>-2.852345</td>\n",
       "      <td>65.886909</td>\n",
       "      <td>-0.095646</td>\n",
       "      <td>11211.212590</td>\n",
       "      <td>8757.987295</td>\n",
       "      <td>...</td>\n",
       "      <td>0.0</td>\n",
       "      <td>71.948627</td>\n",
       "      <td>-4.007097</td>\n",
       "      <td>2857.182491</td>\n",
       "      <td>1611.827878</td>\n",
       "      <td>-459.096792</td>\n",
       "      <td>16.887986</td>\n",
       "      <td>24.016438</td>\n",
       "      <td>-0.013759</td>\n",
       "      <td>0.0</td>\n",
       "    </tr>\n",
       "    <tr>\n",
       "      <td>2</td>\n",
       "      <td>2</td>\n",
       "      <td>1.02</td>\n",
       "      <td>4201.514467</td>\n",
       "      <td>-4786.391145</td>\n",
       "      <td>200.207606</td>\n",
       "      <td>-2.852345</td>\n",
       "      <td>65.886909</td>\n",
       "      <td>-0.095639</td>\n",
       "      <td>11210.669994</td>\n",
       "      <td>8757.680868</td>\n",
       "      <td>...</td>\n",
       "      <td>0.0</td>\n",
       "      <td>71.948627</td>\n",
       "      <td>-4.007089</td>\n",
       "      <td>2857.351248</td>\n",
       "      <td>1612.068188</td>\n",
       "      <td>-459.097066</td>\n",
       "      <td>16.887987</td>\n",
       "      <td>24.016437</td>\n",
       "      <td>-0.013758</td>\n",
       "      <td>0.0</td>\n",
       "    </tr>\n",
       "    <tr>\n",
       "      <td>3</td>\n",
       "      <td>3</td>\n",
       "      <td>1.03</td>\n",
       "      <td>4201.485744</td>\n",
       "      <td>-4785.731974</td>\n",
       "      <td>200.207165</td>\n",
       "      <td>-2.852345</td>\n",
       "      <td>65.886909</td>\n",
       "      <td>-0.095632</td>\n",
       "      <td>11210.127924</td>\n",
       "      <td>8757.375078</td>\n",
       "      <td>...</td>\n",
       "      <td>0.0</td>\n",
       "      <td>71.948628</td>\n",
       "      <td>-4.007080</td>\n",
       "      <td>2857.520005</td>\n",
       "      <td>1612.308498</td>\n",
       "      <td>-459.097340</td>\n",
       "      <td>16.887987</td>\n",
       "      <td>24.016437</td>\n",
       "      <td>-0.013756</td>\n",
       "      <td>0.0</td>\n",
       "    </tr>\n",
       "    <tr>\n",
       "      <td>4</td>\n",
       "      <td>4</td>\n",
       "      <td>1.04</td>\n",
       "      <td>4201.457022</td>\n",
       "      <td>-4785.072803</td>\n",
       "      <td>200.206724</td>\n",
       "      <td>-2.852345</td>\n",
       "      <td>65.886909</td>\n",
       "      <td>-0.095625</td>\n",
       "      <td>11209.585854</td>\n",
       "      <td>8757.069287</td>\n",
       "      <td>...</td>\n",
       "      <td>0.0</td>\n",
       "      <td>71.948628</td>\n",
       "      <td>-4.007072</td>\n",
       "      <td>2857.688762</td>\n",
       "      <td>1612.548808</td>\n",
       "      <td>-459.097614</td>\n",
       "      <td>16.887988</td>\n",
       "      <td>24.016437</td>\n",
       "      <td>-0.013755</td>\n",
       "      <td>0.0</td>\n",
       "    </tr>\n",
       "  </tbody>\n",
       "</table>\n",
       "<p>5 rows × 13002 columns</p>\n",
       "</div>"
      ],
      "text/plain": [
       "   Unnamed: 0     0            1            2           3         4  \\\n",
       "0           0  1.00  4201.571912 -4787.708852  200.208489 -2.852344   \n",
       "1           1  1.01  4201.543189 -4787.049681  200.208048 -2.852345   \n",
       "2           2  1.02  4201.514467 -4786.391145  200.207606 -2.852345   \n",
       "3           3  1.03  4201.485744 -4785.731974  200.207165 -2.852345   \n",
       "4           4  1.04  4201.457022 -4785.072803  200.206724 -2.852345   \n",
       "\n",
       "           5         6             7            8  ...  12991      12992  \\\n",
       "0  65.886909 -0.095653  11211.754660  8758.293086  ...    0.0  71.948626   \n",
       "1  65.886909 -0.095646  11211.212590  8757.987295  ...    0.0  71.948627   \n",
       "2  65.886909 -0.095639  11210.669994  8757.680868  ...    0.0  71.948627   \n",
       "3  65.886909 -0.095632  11210.127924  8757.375078  ...    0.0  71.948628   \n",
       "4  65.886909 -0.095625  11209.585854  8757.069287  ...    0.0  71.948628   \n",
       "\n",
       "      12993        12994        12995       12996      12997      12998  \\\n",
       "0 -4.007105  2857.013208  1611.587568 -459.096517  16.887986  24.016438   \n",
       "1 -4.007097  2857.182491  1611.827878 -459.096792  16.887986  24.016438   \n",
       "2 -4.007089  2857.351248  1612.068188 -459.097066  16.887987  24.016437   \n",
       "3 -4.007080  2857.520005  1612.308498 -459.097340  16.887987  24.016437   \n",
       "4 -4.007072  2857.688762  1612.548808 -459.097614  16.887988  24.016437   \n",
       "\n",
       "      12999  13000  \n",
       "0 -0.013761    0.0  \n",
       "1 -0.013759    0.0  \n",
       "2 -0.013758    0.0  \n",
       "3 -0.013756    0.0  \n",
       "4 -0.013755    0.0  \n",
       "\n",
       "[5 rows x 13002 columns]"
      ]
     },
     "execution_count": 36,
     "metadata": {},
     "output_type": "execute_result"
    }
   ],
   "source": [
    "df.head()"
   ]
  },
  {
   "cell_type": "code",
   "execution_count": 53,
   "metadata": {},
   "outputs": [
    {
     "data": {
      "text/plain": [
       "0        1.0\n",
       "1        1.0\n",
       "2        1.0\n",
       "3        1.0\n",
       "4        1.0\n",
       "        ... \n",
       "14896    1.0\n",
       "14897    1.0\n",
       "14898    1.0\n",
       "14899    1.0\n",
       "14900    1.0\n",
       "Name: 12987, Length: 14901, dtype: float64"
      ]
     },
     "execution_count": 53,
     "metadata": {},
     "output_type": "execute_result"
    }
   ],
   "source": [
    "df['12987']"
   ]
  },
  {
   "cell_type": "code",
   "execution_count": null,
   "metadata": {},
   "outputs": [],
   "source": []
  },
  {
   "cell_type": "code",
   "execution_count": 11,
   "metadata": {},
   "outputs": [],
   "source": [
    "a =0"
   ]
  },
  {
   "cell_type": "code",
   "execution_count": 12,
   "metadata": {},
   "outputs": [],
   "source": [
    "del a"
   ]
  },
  {
   "cell_type": "code",
   "execution_count": 13,
   "metadata": {},
   "outputs": [
    {
     "ename": "NameError",
     "evalue": "name 'a' is not defined",
     "output_type": "error",
     "traceback": [
      "\u001b[1;31m---------------------------------------------------------------------------\u001b[0m",
      "\u001b[1;31mNameError\u001b[0m                                 Traceback (most recent call last)",
      "\u001b[1;32m<ipython-input-13-3f786850e387>\u001b[0m in \u001b[0;36m<module>\u001b[1;34m\u001b[0m\n\u001b[1;32m----> 1\u001b[1;33m \u001b[0ma\u001b[0m\u001b[1;33m\u001b[0m\u001b[1;33m\u001b[0m\u001b[0m\n\u001b[0m",
      "\u001b[1;31mNameError\u001b[0m: name 'a' is not defined"
     ]
    }
   ],
   "source": [
    "a"
   ]
  },
  {
   "cell_type": "code",
   "execution_count": 14,
   "metadata": {},
   "outputs": [],
   "source": [
    "a =1"
   ]
  },
  {
   "cell_type": "code",
   "execution_count": 15,
   "metadata": {},
   "outputs": [
    {
     "data": {
      "text/plain": [
       "1"
      ]
     },
     "execution_count": 15,
     "metadata": {},
     "output_type": "execute_result"
    }
   ],
   "source": [
    "a"
   ]
  },
  {
   "cell_type": "code",
   "execution_count": null,
   "metadata": {},
   "outputs": [],
   "source": []
  }
 ],
 "metadata": {
  "colab": {
   "collapsed_sections": [],
   "name": "RNN_MITLL_Classification_1.ipynb",
   "private_outputs": true,
   "provenance": []
  },
  "kernelspec": {
   "display_name": "Python 3",
   "language": "python",
   "name": "python3"
  },
  "language_info": {
   "codemirror_mode": {
    "name": "ipython",
    "version": 3
   },
   "file_extension": ".py",
   "mimetype": "text/x-python",
   "name": "python",
   "nbconvert_exporter": "python",
   "pygments_lexer": "ipython3",
   "version": "3.7.1"
  }
 },
 "nbformat": 4,
 "nbformat_minor": 1
}
